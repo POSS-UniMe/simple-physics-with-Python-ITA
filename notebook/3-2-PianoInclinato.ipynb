{
 "cells": [
  {
   "cell_type": "markdown",
   "metadata": {},
   "source": [
    "# 3.2   Moto lungo un piano inclinato\n",
    "\n",
    "### -- Esperimento sul moto 1D ed analisi dati --\n",
    "\n",
    "Il moto di un corpo lungo un piano inclinato può essere studiato come esempio di **moto in una dimensione**. Obiettivo di questo esempio è quello di studiare la posizione, la velocità e l'accelerazione in funzione del tempo. \n",
    "![](./img/InclineWeb.jpg)\n",
    "\n",
    "#### Descrizione\n",
    "\n",
    "L'oggetto che si muove lungo il piano inclinato può essere descritto come un punto materiale che si muove lungo una retta. La posizione del punto materiale può essere individuata tramite la coordinata $x$, il cui valore corrisponde in questo caso alla distanza tra l'oggetto ed un sensore situato all'inizio della pista.\n",
    "\n",
    "![](./img/Incline+Sketch.jpg)\n",
    "\n",
    "In particolare, utilizziamo un **sensore ultrasonico** di distanza **HC-SR04** che viene alimentato e controllato tramite una scheda [**Raspberry Pi**](https://www.raspberrypi.org/) (Raspberry Pi3 model B).\n",
    "\n",
    "![](./img/RPi+HC-SR04Sensor.jpg)\n",
    "\n",
    "Semplici codici Python permettono di\n",
    "* registrare i valori di distanza fra il sensore fisso ed il veicolo in movimento\n",
    "* e contemporaneamente misurare il tempo trascorso da un certo istante iniziale. \n",
    "\n",
    "I collegamenti del sensore alla scheda Raspberry Pi ed i codici Python per effettuare le misure sono descritti nel riferimento [1. Physics Education 2020](https://iopscience.iop.org/article/10.1088/1361-6552/ab73d2) (v. anche Supplementary Information)\n",
    "\n",
    "#### Outline dell'attività\n",
    "\n",
    "1. **Effettuare un esperimento** registrando i valori della distanza sensore-oggetto durante il moto lungo il piano inclinato. Lo script Python permette di memorizzare i dati in un file di testo **distance-table.csv** organizzato nel modo seguente\n",
    "\n",
    "Time (s) | Distance (m) \n",
    "---------|----------------\n",
    "6.300999302766286e-06 | 0.04921078322613539\n",
    "0.20044025799870724 | 0.04400026829147464\n",
    "\n",
    "2. Ottenere una **rappresentazione grafica** dei dati.\n",
    "3. **Elaborare i dati** per ottenere i valori di velocità in funzione del tempo.\n",
    "4. Rappresentare graficamente l'andamento della velocità in funzione del tempo.\n",
    "5. Calcolare i valori dell'accelerazione in funzione del tempo e mostrare l'andamento in un grafico.\n",
    "6. Analizzare i dati di velocità\n",
    "    * scegliendo un intervallo di tempo nel quale l'andamento della velocità in funzione del tempo è lineare\n",
    "    * e trovando i parametri della retta che si adatta meglio ai dati sperimentali\n",
    "        * La pendenza della retta fornisce il valore dell'accelerazione in tale intervallo di tempo.\n",
    "7. Valutare i risultati ottenuti riportando in un'unica figura i grafici di: coordinata $x$, velocità e accelerazione.\n",
    "8. Confrontare il valore stimato dell'accelerazione con il valore calcolato utilizzando un **modello fisico**.\n",
    "\n",
    "-----\n",
    "Altri dettagli sui codici Python e sull'analisi dati sono forniti nel notebook 3.1 Viaggio in ascensore."
   ]
  },
  {
   "cell_type": "markdown",
   "metadata": {},
   "source": [
    "##### 1. Esperimento\n",
    "Predisponiamo un piano inclinato ed un oggetto che possa essere lasciato muovere lungo il piano inclinato.\n",
    "\n",
    "Cerchiamo di svolgere l'esperimento in modo che le **condizioni** siano **ripetibili**.\n",
    "\n",
    "Una grandezza che caratterizza le condizioni in cui viene svolto l'esperimento è la misura dell'**angolo** che il piano inclinato forma con la direzione orizzontale.\n",
    "Si può misurare agevolmente questo angolo installando sullo smartphone l'applicazione [phyphox](https://phyphox.org/). Fra i menu disponibili, sotto la voce **Strumenti** scegliere **Inclinazione** (Misura l'angolo d'inclinazione del telefono). Premere il tasto **play** per iniziare la misura.\n",
    "\n",
    "![](img/phyphox.png)\n",
    "\n",
    "&nbsp;\n",
    "\n",
    "Si manda in esecuzione sulla Raspberry Pi il codice **distance_recorder.py** e si lascia che l'oggetto si muova lungo il piano inclinato, mentre i valori di distanza vengono misurati e memorizzati in un array. Lo script Python produce il file **distance_table.csv** in cui sono riportati i dati di tempo e distanza."
   ]
  },
  {
   "cell_type": "markdown",
   "metadata": {},
   "source": [
    "##### 2. Rappresentazione grafica dei dati\n",
    "Con il seguente codice leggiamo i dati contenuti nel file **distance-table.csv** e riportiamo in grafico la distanza sensore-oggetto in funzione del tempo trascorso da un certo istante iniziale."
   ]
  },
  {
   "cell_type": "code",
   "execution_count": 7,
   "metadata": {},
   "outputs": [
    {
     "name": "stdout",
     "output_type": "stream",
     "text": [
      "\n"
     ]
    },
    {
     "data": {
      "image/png": "[encoded data removed]",
      "text/plain": [
       "<Figure size 432x288 with 1 Axes>"
      ]
     },
     "metadata": {
      "needs_background": "light"
     },
     "output_type": "display_data"
    },
    {
     "name": "stdout",
     "output_type": "stream",
     "text": [
      "\n"
     ]
    }
   ],
   "source": [
    "import numpy as np\n",
    "import matplotlib.pyplot as plt\n",
    "\n",
    "inputDataFile='data/distance-table.csv'\n",
    "\n",
    "# read data from file\n",
    "t, x = np.loadtxt(inputDataFile, delimiter =',', unpack = True)\n",
    "\n",
    "# plot of the experimental data\n",
    "plt.plot(t, x, 'o', color='blue', markersize = 5)\n",
    "plt.axhline(color = 'green', zorder = -1)\n",
    "plt.axvline(color = 'gray', zorder = -1)\n",
    "plt.xlabel('time  $t$ (s)')\n",
    "plt.ylabel('$x$ (m)')\n",
    "\n",
    "print()\n",
    "plt.show()\n",
    "print()"
   ]
  },
  {
   "cell_type": "markdown",
   "metadata": {},
   "source": [
    "##### 3. Calcolare la velocità\n",
    "Per calcolare la velocità consideriamo gli spostamenti $\\Delta x$ e la durata degli intervalli di tempo $\\Delta t$ fra due misure successive. La velocità media riferita ad ogni intervallo di tempo viene calcolata come\n",
    "\n",
    "$$ v = \\dfrac{\\Delta x}{\\Delta t} $$\n",
    "\n",
    "Tale valore di velocità media viene riferito ad un tempo $t'$ ottenuto come valore medio del tempo nell'intervallo $\\Delta t$ considerato. I dati calcolati vengono memorizzati in un file **Incline-Speed.csv**"
   ]
  },
  {
   "cell_type": "code",
   "execution_count": 9,
   "metadata": {},
   "outputs": [],
   "source": [
    "speedDataFile='data/Incline-Speed.csv'\n",
    "\n",
    "np.set_printoptions(precision=20)\n",
    "delta_t = np.diff(t)\n",
    "delta_x = np.diff(x)\n",
    "v = delta_x / delta_t\n",
    "t_prime = t[:-1] + (delta_t/2)\n",
    "\n",
    "np.savetxt(speedDataFile, np.column_stack((t_prime, v)))"
   ]
  },
  {
   "cell_type": "markdown",
   "metadata": {},
   "source": [
    "##### 4. Grafico della velocità in funzione del tempo\n",
    "Abbiamo già importato in una delle celle Jupyter di questo notebook la libreria **matplotlib**, quindi con le seguenti righe di codice possiamo utilizzare la funzione **plt.plot()** ed altre funzioni di matplolib per costruire un grafico della velocità in funzione del tempo."
   ]
  },
  {
   "cell_type": "code",
   "execution_count": 52,
   "metadata": {},
   "outputs": [
    {
     "data": {
      "image/png": "[encoded data removed]",
      "text/plain": [
       "<Figure size 432x288 with 1 Axes>"
      ]
     },
     "metadata": {
      "needs_background": "light"
     },
     "output_type": "display_data"
    }
   ],
   "source": [
    "plt.plot(t_prime, v, 'o', color='red', markersize = 5)\n",
    "plt.axhline(color = 'gray', zorder = -1)\n",
    "plt.axvline(color = 'gray', zorder = -1)\n",
    "plt.xlabel('time $t$ (s)')\n",
    "plt.ylabel('velocity $v$ (m s$^{-1}$)')\n",
    "plt.draw()\n",
    "plt.show()"
   ]
  },
  {
   "cell_type": "markdown",
   "metadata": {},
   "source": [
    "##### 5.  Calcolo dell'accelerazione\n",
    "L'accelerazione dell'oggetto che si muove lungo il piano inclinato viene calcolata in questo esempio come accelerazione media riferita a ciascun intervallo di tempo $\\Delta t'$.\n",
    "\n",
    "$$  a = \\dfrac{\\Delta v}{\\Delta t'}  $$\n",
    "\n",
    "Ciascun valore di accelerazione viene associato ad un tempo pari al valore medio del corrispondente intervallo $\\Delta t'$. I dati vengono memorizzati in un file **Incline-Acceleration.csv**."
   ]
  },
  {
   "cell_type": "code",
   "execution_count": 14,
   "metadata": {},
   "outputs": [],
   "source": [
    "accelerationDataFile='data/Incline-Acceleration.csv'\n",
    "\n",
    "np.set_printoptions(precision=20)\n",
    "delta_t_prime = np.diff(t_prime)\n",
    "delta_v = np.diff(v)\n",
    "a = delta_v / delta_t_prime\n",
    "t_double_prime = t_prime[:-1] + (delta_t_prime/2)\n",
    "\n",
    "np.savetxt(accelerationDataFile, np.column_stack((t_double_prime, a)))"
   ]
  },
  {
   "cell_type": "markdown",
   "metadata": {},
   "source": [
    "I valori così ottenuti vengono riportati in un grafico."
   ]
  },
  {
   "cell_type": "code",
   "execution_count": 16,
   "metadata": {},
   "outputs": [
    {
     "name": "stdout",
     "output_type": "stream",
     "text": [
      "\n"
     ]
    },
    {
     "data": {
      "image/png": "[encoded data removed]",
      "text/plain": [
       "<Figure size 432x288 with 1 Axes>"
      ]
     },
     "metadata": {
      "needs_background": "light"
     },
     "output_type": "display_data"
    }
   ],
   "source": [
    "print()\n",
    "#\n",
    "\n",
    "plt.plot(t_double_prime, a, 'o', color='green', markersize = 6, label = 'calculated')\n",
    "plt.axhline(color = 'gray', zorder = -1)\n",
    "plt.axvline(color = 'gray', zorder = -1)\n",
    "plt.xlabel('time $t$ (s)')\n",
    "plt.ylabel('acceleration $a$ (m/s$^{2}$)')\n",
    "#plt.ylim(-1.5,1.5)\n",
    "plt.legend(loc='lower left', shadow=True, fontsize='large')\n",
    "plt.draw()\n",
    "plt.show()"
   ]
  },
  {
   "cell_type": "markdown",
   "metadata": {},
   "source": [
    "> Possiamo osservare che l'accelerazione assume anche valori negativi. Questi valori corrispondono all'intervallo di tempo in cui l'oggetto, dopo essersi mosso lungo tutto il piano inclinato viene rallentato bruscamente, di proposito, contro un ostacolo morbido.\n",
    "\n",
    "##### 6. Analisi dei dati di velocità\n",
    "\n",
    "###### 6.1. Selezione di un sottoinsieme dei dati\n",
    "\n",
    "Il numero di coppie (tempo $t'$, velocità $v$) è dato dalla dimensione dell'array di numpy corrispondente. "
   ]
  },
  {
   "cell_type": "code",
   "execution_count": 13,
   "metadata": {},
   "outputs": [
    {
     "data": {
      "text/plain": [
       "27"
      ]
     },
     "execution_count": 13,
     "metadata": {},
     "output_type": "execute_result"
    }
   ],
   "source": [
    "np.size(t_prime)"
   ]
  },
  {
   "cell_type": "markdown",
   "metadata": {},
   "source": [
    "Per poter restringere l'analisi ad un determinato intervallo di tempo utilizzamo due **marker** ciascuno dei quali corrisponde al numero progressivo del dato considerato."
   ]
  },
  {
   "cell_type": "code",
   "execution_count": 75,
   "metadata": {},
   "outputs": [
    {
     "name": "stdout",
     "output_type": "stream",
     "text": [
      "\n",
      "Valori consigliati: 9, 17\n"
     ]
    },
    {
     "data": {
      "application/vnd.jupyter.widget-view+json": {
       "model_id": "85032060d60b4551ae9c5c06b7db75cc",
       "version_major": 2,
       "version_minor": 0
      },
      "text/plain": [
       "interactive(children=(IntSlider(value=0, continuous_update=False, description='MarkerOne', max=26), IntSlider(…"
      ]
     },
     "metadata": {},
     "output_type": "display_data"
    },
    {
     "data": {
      "text/plain": [
       "<function __main__.calculate(MarkerOne, MarkerTwo)>"
      ]
     },
     "execution_count": 75,
     "metadata": {},
     "output_type": "execute_result"
    }
   ],
   "source": [
    "import ipywidgets as widgets\n",
    "\n",
    "print()\n",
    "print('Valori consigliati: 9, 17')\n",
    "\n",
    "sliderMarkerOne = widgets.IntSlider(min = 0, max = (np.size(t_prime)-1), step = 1, value = 0, continuous_update = False)\n",
    "sliderMarkerTwo = widgets.IntSlider(min = 0, max = (np.size(t_prime)-1), step = 1, value = 0, continuous_update = False)\n",
    "\n",
    "def calculate(MarkerOne, MarkerTwo):\n",
    "        print('Marker One = ',MarkerOne, '      Marker Two = ', MarkerTwo, '\\n')\n",
    "        MarkerOneTime = t_prime[MarkerOne]   \n",
    "        MarkerTwoTime = t_prime[MarkerTwo]\n",
    "        print ('Time One', MarkerOneTime, 's', '      Time Two = ', MarkerTwoTime, '\\n')\n",
    "        makeplots(MarkerOne,MarkerTwo)\n",
    "        t_subset = t_prime[MarkerOne:MarkerTwo]\n",
    "        v_subset = v[MarkerOne:MarkerTwo]\n",
    "        \n",
    "def makeplots(MarkerOne, MarkerTwo):\n",
    "    fig = plt.figure(figsize=(7, 9))\n",
    "   # plt.ion()\n",
    "    plt.subplot(2, 1, 1)\n",
    "    plt.plot(t_prime, v, 'o', color='red', markersize = 5)\n",
    "    plt.plot(t_prime[MarkerOne],v[MarkerOne], 'o', color='magenta', markersize = 8, zorder = -1)\n",
    "    plt.plot(t_prime[MarkerTwo],v[MarkerTwo], 'o', color='cyan', markersize = 10, zorder = -1)\n",
    "    plt.axhline(color = 'gray', zorder = -1)\n",
    "    plt.axvline(color = 'gray', zorder = -1)\n",
    "    plt.axvline(color = 'magenta', x = t_prime[MarkerOne], zorder = -1)\n",
    "    plt.axvline(color = 'cyan', x = t_prime[MarkerTwo], zorder = -1)\n",
    "    plt.xlabel('time  $t$ (s)')\n",
    "    plt.ylabel('velocity $v$ (m/s)')\n",
    "    #plt.text(27, 1.8, inputDataFile)\n",
    "\n",
    "\n",
    "    plt.subplot(2, 1, 2)\n",
    "    plt.plot(t_double_prime, a, 'o', color='green', markersize = 5)\n",
    "    plt.axhline(color = 'gray', zorder = -1)\n",
    "    plt.axvline(color = 'gray', zorder = -1)\n",
    "    plt.axvline(color = 'magenta', x = t_prime[MarkerOne], zorder = -1)\n",
    "    plt.axvline(color = 'cyan', x = t_prime[MarkerTwo], zorder = -1)\n",
    "    plt.xlabel('time $t$ (s)')\n",
    "    plt.ylabel('acceleration $a$ (m/s$^{2}$)')\n",
    "   #plt.text(20, 0.2, speedDataFile)\n",
    "        \n",
    "widgets.interact(calculate, MarkerOne = sliderMarkerOne, MarkerTwo = sliderMarkerTwo)"
   ]
  },
  {
   "cell_type": "markdown",
   "metadata": {},
   "source": [
    "###### 6.2 Fit lineare dei dati di velocità\n",
    "In una certa regione del grafico l'andamento della velocità in funzione del tempo è lineare. I valori della velocità soddisfano un'equazione del tipo\n",
    "\n",
    "$$ v - v_0 = a (t- t_0) $$\n",
    "\n",
    "Considerando che la velocità iniziale è nulla, si ha\n",
    "\n",
    "$$ v = a (t- t_0) $$ \n",
    "\n",
    "ovvero \n",
    "\n",
    "$$ v = a t - a t_0 $$\n",
    "\n",
    "Il grafico di $v$ in funzione di $t$ può essere quindi descritto con l'equazione di una retta che, in un piano cartesiano Oxy, è\n",
    "\n",
    "$$ y = A x + B $$\n",
    "\n",
    "Nel codice Python che segue definiamo una funzione che permette di calcolare i parametri $A$ e $B$ che forniscono il miglior accordo fra un insieme di dati e una retta. Applichiamo l'algoritmo all'insieme dei dati di velocità nell'intervallo di tempo che abbiamo selezionato ed otteniamo\n",
    "\n",
    "* il valore del parametro A\n",
    "    * che fornisce una stima dell'**accelerazione** $a$ nell'intervallo di tempo considerato\n",
    "    \n",
    "* il valore del parametro B\n",
    "    * dal quale possiamo ricavare il valore di $t_0$, essendo\n",
    "$$ t_0 = - \\dfrac{B}{A} $$"
   ]
  },
  {
   "cell_type": "code",
   "execution_count": 83,
   "metadata": {},
   "outputs": [
    {
     "name": "stdout",
     "output_type": "stream",
     "text": [
      "\n",
      " Estimated value of the acceleration (from the linear fit)\n",
      "\n",
      " a = 1.295 m/s^2 \n",
      "\n",
      " t0 = 1.829 s \n",
      "\n"
     ]
    }
   ],
   "source": [
    "t_prime_subset = t_prime[sliderMarkerOne.value:sliderMarkerTwo.value]\n",
    "v_subset = v[sliderMarkerOne.value:sliderMarkerTwo.value]\n",
    "\n",
    "def LineFit(x,y):\n",
    "    x_avg = x.mean()\n",
    "    slope =  (y*(x-x_avg)).sum()/(x*(x-x_avg)).sum()\n",
    "    y_intercept = y.mean() - slope * x_avg\n",
    "    return slope, y_intercept\n",
    "\n",
    "a_est, v_intercept = LineFit(t_prime_subset, v_subset)\n",
    "\n",
    "\n",
    "print('\\n Estimated value of the acceleration (from the linear fit)')\n",
    "print('\\n a = {0:0.4} m/s^2 \\n'.format(a_est))\n",
    "#print('v_intercept', v_intercept, 'm/s', '\\n')\n",
    "t0 = -v_intercept/a_est\n",
    "print(' t0 = {0:0.4} s \\n'.format(t0))\n"
   ]
  },
  {
   "cell_type": "markdown",
   "metadata": {},
   "source": [
    "##### 7. Figura riassuntiva: coordinata x, velocità, accelerazione\n",
    "\n",
    "Vogliamo riassumere i risultati ottenuti in un'unica figura. I grafici sono organizzati in una tabella costituita da tre righe ed una colonna."
   ]
  },
  {
   "cell_type": "code",
   "execution_count": 71,
   "metadata": {},
   "outputs": [
    {
     "name": "stdout",
     "output_type": "stream",
     "text": [
      "\n"
     ]
    },
    {
     "data": {
      "image/png": "[encoded data removed]",
      "text/plain": [
       "<Figure size 504x936 with 3 Axes>"
      ]
     },
     "metadata": {
      "needs_background": "light"
     },
     "output_type": "display_data"
    },
    {
     "name": "stdout",
     "output_type": "stream",
     "text": [
      "\n"
     ]
    }
   ],
   "source": [
    "print()\n",
    "\n",
    "\n",
    "v_fit = a_est * t_prime_subset + v_intercept\n",
    "\n",
    "\n",
    "a_fit = v_fit/v_fit*a_est\n",
    "\n",
    "\n",
    "x_fit = 0.5 *a_est * ( t_prime_subset - t0)**2 + 0.029\n",
    "\n",
    "\n",
    "fig = plt.figure(figsize=(7, 13))\n",
    "   # plt.ion()\n",
    "plt.subplot(3, 1, 1)\n",
    "plt.plot(t, x, 'o', color='blue', markersize = 5, label = 'data')\n",
    "plt.plot(t_prime_subset,x_fit, '-', color='yellow', linewidth = 3, zorder = -1, label = 'fit')\n",
    "plt.axhline(color = 'gray', zorder = -1)\n",
    "plt.axvline(color = 'gray', zorder = -1)\n",
    "plt.axvline(color = 'magenta', x = t_prime_subset[0], linewidth = 1, linestyle = '--', zorder = -1)\n",
    "plt.axvline(color = 'cyan', x = t_prime_subset[-1],linewidth = 1, linestyle = '--', zorder = -1)\n",
    "plt.xlabel('time  $t$ (s)')\n",
    "plt.ylabel('height $h$ (m)')\n",
    "#plt.text(27, 1.8, inputDataFile)\n",
    "plt.legend(loc='upper left', shadow=True, fontsize='large')\n",
    "\n",
    "\n",
    "plt.subplot(3, 1, 2)\n",
    "plt.plot(t_prime, v, 'o', color='red', markersize = 5)\n",
    "plt.plot(t_prime_subset,v_fit,'-', color = 'orange', linewidth = 3)\n",
    "plt.axhline(color = 'gray', zorder = -1)\n",
    "plt.axvline(color = 'gray', zorder = -1)\n",
    "plt.axvline(color = 'magenta', x = t_prime_subset[0], linewidth = 1, linestyle = '--', zorder = -1)\n",
    "plt.axvline(color = 'cyan', x = t_prime_subset[-1], linewidth = 1, linestyle = '--', zorder = -1)\n",
    "plt.xlabel('time $t$ (s)')\n",
    "plt.ylabel('velocity $v$ (m/s)')\n",
    "#plt.text(20, 0.2, speedDataFile)\n",
    "\n",
    "plt.subplot(3, 1, 3)\n",
    "plt.plot(t_double_prime, a, 'o', color='green', markersize = 6, label = 'calculated')\n",
    "plt.plot(t_prime_subset,a_fit, color = 'black', markersize = 3, label = 'fit')\n",
    "plt.axhline(color = 'gray', zorder = -1)\n",
    "plt.axvline(color = 'gray', zorder = -1)\n",
    "plt.xlabel('time $t$ (s)')\n",
    "plt.ylabel('acceleration $a$ (m/s$^{2}$)')\n",
    "#plt.ylim(-1.5,1.5)\n",
    "plt.legend(loc='lower left', shadow=True, fontsize='large')\n",
    "#plt.text(10, -1, accelerometerDataFile)\n",
    "\n",
    "plt.savefig('data/Incline-Results.pdf')\n",
    "\n",
    "plt.draw()\n",
    "plt.show()\n",
    "print()"
   ]
  },
  {
   "cell_type": "markdown",
   "metadata": {},
   "source": [
    "* I valori di velocità sono riportati insieme al grafico della retta che meglio approssima i dati sperimentali nell'intervallo considerato. (**Grafico 2/3**)\n",
    "\n",
    "* La pendenza di tale retta fornisce una stima dell'accelerazione. Questo valore costante di accelerazione è rappresentato come una linea orizzontale nel grafico che riporta i valori di accelerazione in funzione del tempo. (**Grafico 3/3**)\n",
    "\n",
    "* I valori sperimentali di $x$ in funzione del tempo sono mostrati in grafico (**Grafico 1/3**) insieme ai dati calcolati utilizzando l'equazione\n",
    "$$ x = x_0 + \\dfrac{1}{2} a (t - t_0)^2 $$\n",
    "    * con i valori di $a$ e $t_0$ ottenuti dal fit lineare dei dati di velocità\n",
    "    * e con il valore di $x_0$ che fornisce il miglior adattamento della curva (parabola) ai valori sperimentali di $x$ vs. $t$."
   ]
  },
  {
   "cell_type": "markdown",
   "metadata": {},
   "source": [
    "#####  8. Confronto con le previsioni di un modello fisico\n",
    "Se si considera come modello fisico il sistema costituito da un punto materiale che si muove **senza attrito** lungo il piano inclinato sotto l'azione della forza peso, conoscendo l'angolo $\\theta$ di inclinazione, si può prevedere che il moto sarà un **moto con accelerazione costante** pari a \n",
    "\n",
    "$$ g \\sin(\\theta) $$\n",
    "\n",
    "dove $g$ è l'accelerazione di gravità.\n",
    "\n",
    "Nel nostro caso,\n",
    "* consideriamo la misura dell'angolo $\\theta$ ottenuta usando l'App **phyphox**.\n",
    "* convertiamo la misura in **radianti**\n",
    "* calcoliamo il **valore atteso** dell'accelerazione in base alla previsione del modello"
   ]
  },
  {
   "cell_type": "code",
   "execution_count": 102,
   "metadata": {},
   "outputs": [
    {
     "name": "stdout",
     "output_type": "stream",
     "text": [
      "\n",
      "Inclinazione\n",
      "\n",
      " theta = 0.191986 rad\n",
      "\n"
     ]
    }
   ],
   "source": [
    "theta_deg = 11\n",
    "theta_rad = theta_deg / 180 * np.pi\n",
    "print('\\nInclinazione\\n\\n theta = {0:0.6} rad\\n'.format(theta_rad))"
   ]
  },
  {
   "cell_type": "code",
   "execution_count": 73,
   "metadata": {},
   "outputs": [
    {
     "data": {
      "text/plain": [
       "0.1908089953765448"
      ]
     },
     "execution_count": 73,
     "metadata": {},
     "output_type": "execute_result"
    }
   ],
   "source": [
    "np.sin(theta_rad)"
   ]
  },
  {
   "cell_type": "code",
   "execution_count": 101,
   "metadata": {},
   "outputs": [
    {
     "name": "stdout",
     "output_type": "stream",
     "text": [
      "\n",
      "Valore stimato dell'accelerazione in assenza di attrito\n",
      "\n",
      "a_model = 1.870 m/s^2 \n",
      "\n",
      "\n",
      "Valore dell'accelerazione stimato tramite fit dei dati sperimentali\n",
      "\n",
      "a_est =  1.295 m/s^2 \n",
      "\n",
      "\n",
      "Errore relativo = 30.7 %\n"
     ]
    }
   ],
   "source": [
    "a_model = 9.8 * np.sin(theta_rad)\n",
    "\n",
    "print()\n",
    "print('Valore stimato dell\\'accelerazione in assenza di attrito\\n')\n",
    "print('a_model = {0:0.3f} m/s^2 \\n'.format(a_model))\n",
    "\n",
    "print()\n",
    "print('Valore dell\\'accelerazione stimato tramite fit dei dati sperimentali\\n')\n",
    "print('a_est =  {0:0.3f} m/s^2 \\n'.format(a_est))\n",
    "print()\n",
    "relative_error = (a_model-a_est)/a_model\n",
    "print('Errore relativo = {0:0.1f} %'.format(relative_error*100) )"
   ]
  },
  {
   "cell_type": "markdown",
   "metadata": {},
   "source": [
    "### Osservazione\n",
    "Possiamo osservare che l'accelerazione ottenuta dai dati sperimentali è minore di quella stimata sulla base del modello. \n",
    "\n",
    ">La presenza di una forza di attrito costante ha come conseguenza che la forza totale costante che agisce sul corpo in movimento è costante ed è minore rispetto al caso ideale. \n",
    ">Si otterrebbe quindi un'accelerazione costante minore rispetto a quella attesa in assenza di attrito, in accordo con i risultati di questa indagine sperimentale."
   ]
  },
  {
   "cell_type": "markdown",
   "metadata": {},
   "source": [
    "## What we have learned\n",
    "\n",
    "*Fisica*\n",
    "* Misure di distanza in funzione del tempo\n",
    "* Analisi dei dati\n",
    "* Andamento grafico della velocità nel caso di moto con accelerazione costante\n",
    "* Fit lineare dei dati di velocità e determinazione dell'accelerazione\n",
    "* Equazioni del moto uniformemente accelerato\n",
    "\n",
    "*Python*\n",
    "* Acquisizione di dati con un apparato sperimentale controllato tramite software\n",
    "* Elaborazione dei dati, analisi dei dati\n",
    "* Rappresentazione grafica dei risultati"
   ]
  },
  {
   "cell_type": "markdown",
   "metadata": {},
   "source": [
    "## References and notes\n",
    "\n",
    "#### Experimental setup: hardware and software\n",
    "1. [Experiments and data analysis on one-dimensional motion with **Raspberry Pi** and **Python**](https://iopscience.iop.org/article/10.1088/1361-6552/ab73d2) (see also Supplementary Information)"
   ]
  },
  {
   "cell_type": "code",
   "execution_count": null,
   "metadata": {},
   "outputs": [],
   "source": []
  }
 ],
 "metadata": {
  "kernelspec": {
   "display_name": "Python 3",
   "language": "python",
   "name": "python3"
  },
  "language_info": {
   "codemirror_mode": {
    "name": "ipython",
    "version": 3
   },
   "file_extension": ".py",
   "mimetype": "text/x-python",
   "name": "python",
   "nbconvert_exporter": "python",
   "pygments_lexer": "ipython3",
   "version": "3.7.4"
  }
 },
 "nbformat": 4,
 "nbformat_minor": 2
}
