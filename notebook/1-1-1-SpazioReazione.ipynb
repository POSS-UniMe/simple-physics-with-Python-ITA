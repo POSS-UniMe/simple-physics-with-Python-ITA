{
 "cells": [
  {
   "cell_type": "code",
   "execution_count": null,
   "metadata": {},
   "outputs": [],
   "source": []
  },
  {
   "cell_type": "markdown",
   "metadata": {},
   "source": [
    "# Spazio di reazione, tempo di reazione\n",
    "\n",
    "**Tempo di reazione** è il tempo che trascorre da quando il pilota di un veicolo percepisce uno stimolo visivo a quando inizia una manovra d'emergenza, come una frenata improvvisa. \n",
    "\n",
    "![](img/fiat500-running.jpg)\n",
    "\n",
    "**Spazio di reazione** è lo spazio percorso dal veicolo durante tale intervallo di tempo.\n",
    "\n",
    "Supponendo che un veicolo sia in movimento con velocità costante $v$, calcolare lo spazio di reazione che corrisponde ad un tempo di reazione di 300 ms, se la velocità è $v =$ 36 km/h.\n",
    "\n",
    "### Discussione del problema\n",
    "* La velocità del veicolo di solito è compresa\n",
    "    * fra 0 e 50 km/h nelle aree urbane\n",
    "    * fra 80 e 130 km/h in autostrada\n",
    "\n",
    "* Bisogna convertire l'unità di misura da km/h a m/s\n",
    "\n",
    "$$v \\left[\\dfrac{km}{h}\\right] \\cdot \\dfrac{1}{3.6} = v \\left[\\dfrac{m}{s}\\right]$$\n",
    "\n",
    "* La velocità costante con cui si muove il veicolo è \n",
    "\n",
    "$$v = \\dfrac{\\Delta x}{\\Delta t}$$\n",
    "\n",
    "* Se $\\Delta t$ è il **tempo di reazione**, allora lo **spazio di reazione** è dato da\n",
    "\n",
    "$$ \\Delta x = v \\Delta t $$\n",
    "\n",
    "\n",
    "### Svolgimento dei calcoli con Python"
   ]
  },
  {
   "cell_type": "code",
   "execution_count": 1,
   "metadata": {},
   "outputs": [
    {
     "name": "stdout",
     "output_type": "stream",
     "text": [
      "\n",
      "Velocità =  10.0 m/s \n",
      "\n"
     ]
    }
   ],
   "source": [
    "speed = 36   # km/h\n",
    "v = speed / 3.6   # m/s\n",
    "print()\n",
    "print('Velocità = ', v, 'm/s', '\\n')"
   ]
  },
  {
   "cell_type": "code",
   "execution_count": 2,
   "metadata": {},
   "outputs": [
    {
     "name": "stdout",
     "output_type": "stream",
     "text": [
      "\n",
      " Spazio di reazione =  3.0 m \n",
      "\n"
     ]
    }
   ],
   "source": [
    "Dt = 0.300  # 300 ms, tempo di reazione\n",
    "Dx = v * Dt   # spazio di reazione\n",
    "print ('\\n','Spazio di reazione = ', Dx, 'm', '\\n')"
   ]
  },
  {
   "cell_type": "markdown",
   "metadata": {},
   "source": [
    "> Per eseguire il codice Python contenuto in questo **notebook** Jupyter, anche se Python e Jupyter non sono installati sulla macchina che stai utilizzando puoi utilizzare \n",
    "> l'ambiente **binder** online\n",
    "\n",
    "[![Binder](https://mybinder.org/badge_logo.svg)](https://mybinder.org/v2/gh/POSS-UniMe/simple-physics-with-Python-ITA/master?filepath=notebook%2F1-1-1-SpazioReazione.ipynb)"
   ]
  },
  {
   "cell_type": "markdown",
   "metadata": {},
   "source": [
    "### Calcoli in modalità interattiva\n",
    "Vogliamo vedere come cambia lo spazio di reazione se cambia la velocità alla quale procede il veicolo. Vogliamo anche valutare quanto lo spazio di reazione è influenzato dal tempo di reazione del conducente. Per selezionare un valore della variabile entro un certo intervallo utilizziamo uno **slider** associato alla variabile. Il calcolo dello spazio di reazione verrà aggiornato appena si cambia il valore della variabile associata allo slider.\n",
    "\n"
   ]
  },
  {
   "cell_type": "code",
   "execution_count": 3,
   "metadata": {},
   "outputs": [
    {
     "name": "stdout",
     "output_type": "stream",
     "text": [
      "\n"
     ]
    },
    {
     "data": {
      "application/vnd.jupyter.widget-view+json": {
       "model_id": "4108d09eafa54627b4636d1e61c87fad",
       "version_major": 2,
       "version_minor": 0
      },
      "text/plain": [
       "interactive(children=(FloatSlider(value=0.3, description='Dt', max=0.5, min=0.2, step=0.05), FloatSlider(value…"
      ]
     },
     "metadata": {},
     "output_type": "display_data"
    },
    {
     "data": {
      "text/plain": [
       "<function __main__.calculate(Dt, speed)>"
      ]
     },
     "execution_count": 3,
     "metadata": {},
     "output_type": "execute_result"
    }
   ],
   "source": [
    "import ipywidgets as widgets\n",
    "\n",
    "print()\n",
    "\n",
    "sliderTime = widgets.FloatSlider(min = 0.200, max = 0.500, step = 0.050, value = 0.300)\n",
    "\n",
    "sliderSpeed = widgets.FloatSlider(min = 0, max = 130, step = 1.0, value = 36)\n",
    "\n",
    "def calculate(Dt, speed):\n",
    "    v = speed / 3.6   # m/s\n",
    "    print('\\n','Velocità = ', v, 'm/s', '\\n')\n",
    "    Dx = v * Dt   # spazio di reazione\n",
    "    print ('Spazio di reazione = ', Dx, 'm', '\\n');\n",
    "        \n",
    "widgets.interact(calculate, Dt = sliderTime, speed=sliderSpeed)\n"
   ]
  },
  {
   "cell_type": "markdown",
   "metadata": {},
   "source": [
    "### Refined version\n",
    "Si può migliorare la leggibilità dei risultati specificando un formato opportuno per la stampa ([4](https://physics.nyu.edu/pine/pymanual/html/chap4/chap4_io.html#file-input), [5](https://docs.python.org/3/library/string.html#formatspec)). In particolare, scegliamo di specificare il formato in modo da visualizzare il valore calcolato della velocità con una sola cifra decimale e il valore calcolato dello spazio di reazione con due cifre decimali. Questo si realizza tramite la funzione **print()** ed il metodo **str.format()**.\n",
    "\n",
    "Inoltre vogliamo specificare meglio quali sono le variabili controllate tramite gli slider. Questo si può fare usando la proprietà **description**, che permette anche di scrivere equazioni in LaTeX.\n",
    "\n"
   ]
  },
  {
   "cell_type": "code",
   "execution_count": 4,
   "metadata": {},
   "outputs": [
    {
     "name": "stdout",
     "output_type": "stream",
     "text": [
      "\n"
     ]
    },
    {
     "data": {
      "application/vnd.jupyter.widget-view+json": {
       "model_id": "df9e6de5bdba465fb4daa9c6a2dfc5f6",
       "version_major": 2,
       "version_minor": 0
      },
      "text/plain": [
       "interactive(children=(FloatSlider(value=0.3, description='Tempo di reazione $\\\\Delta t$ (s)', max=0.5, min=0.2…"
      ]
     },
     "metadata": {},
     "output_type": "display_data"
    },
    {
     "data": {
      "text/plain": [
       "<function __main__.calculate(Dt, speed)>"
      ]
     },
     "execution_count": 4,
     "metadata": {},
     "output_type": "execute_result"
    }
   ],
   "source": [
    "import ipywidgets as widgets\n",
    "style = {'description_width':'initial'}\n",
    "sliderTime = widgets.FloatSlider(min = 0.200, max = 0.500, step = 0.050, value = 0.300,\n",
    "                                 description ='Tempo di reazione '+r'$\\Delta t$'+' (s)', style = style)\n",
    "sliderSpeed = widgets.FloatSlider(min = 0, max = 130, step = 1.0, value = 36,\n",
    "                                 description ='Velocità (km/h)', style = style)\n",
    "print()\n",
    "\n",
    "def calculate(Dt, speed):\n",
    "    v = speed / 3.6   # m/s\n",
    "    print('\\n','Velocità = {0:0.1f} m/s  \\n'.format(v))\n",
    "    Dx = v * Dt   # spazio di reazione\n",
    "    print('Spazio di reazione = {0:0.02f} m \\n'.format(Dx))\n",
    "widgets.interact(calculate, Dt = sliderTime, speed=sliderSpeed)"
   ]
  },
  {
   "cell_type": "markdown",
   "metadata": {},
   "source": [
    "&nbsp;\n",
    "\n",
    "## What we have learned\n",
    "*Python*\n",
    "* Usare Jupyter come un foglio di calcolo che include\n",
    "    * parti di testo in Markdown e \n",
    "    * codice Python\n",
    "    * con la possibilità di cambiare i valori delle variabili \n",
    "    * e di operare in modalità interattiva usando uno slider.\n",
    "    \n",
    "*Fisica*\n",
    "* Semplici applicazioni delle leggi del moto rettilineo uniforme."
   ]
  },
  {
   "cell_type": "markdown",
   "metadata": {},
   "source": [
    "## References and notes\n",
    "\n",
    "#### Semplici calcoli con Python\n",
    "\n",
    "* 1.[Introduction to Python for Science](https://physics.nyu.edu/pine/pymanual/html/pymanMaster.html)\n",
    "\n",
    "* 2.[Engineering Computations](https://github.com/engineersCode/EngComp) (see Module 1. Get data off the ground -- Learn to interact with Python and handle data with Python.\n",
    "\n",
    "* 3.[A quick intro to numerical programming in Python](https://github.com/barbagroup/AeroPython) (see Module 0. Quick Python Intro).\n",
    "\n",
    "\n",
    "#### Widgets\n",
    "\n",
    "* 4.[Jupyter Widgets documentation](https://ipywidgets.readthedocs.io/en/latest/)\n",
    "* 5.[Layout and Styling of Jupyter widgets](https://ipywidgets.readthedocs.io/en/latest/examples/Widget%20Styling.html#Description)\n",
    "\n",
    "#### Printing with a format\n",
    "* 6.[Input Output. Python documentation](https://docs.python.org/3/tutorial/inputoutput.html)\n",
    "\n",
    "\n",
    "#### Images\n",
    "* 7.Foto originale *'fiat500-running.jpg'* realizzata con uno smartphone Samsung 9\n",
    "\n",
    "#### Software resources\n",
    "* 8.[**binder**](https://mybinder.org) For opening the notebooks in an executable environment\n",
    "\n",
    "&nbsp;\n",
    "\n",
    "### Copyright and License\n",
    "--------------------------\n",
    "(c) 2020 Andrea Mandanici, Marco Guarnera, Giuseppe Mandaglio, Giovanni Pirrotta. All content is under Creative Common Attribution  <a rel=\"license\" href=\"https://creativecommons.org/licenses/by/4.0\">CC BY 4.0<a/> \n",
    " and all code is under [BSD 3-Clause License](https://opensource.org/licenses/BSD-3-Clause)"
   ]
  },
  {
   "cell_type": "code",
   "execution_count": null,
   "metadata": {},
   "outputs": [],
   "source": []
  }
 ],
 "metadata": {
  "kernelspec": {
   "display_name": "Python 3",
   "language": "python",
   "name": "python3"
  },
  "language_info": {
   "codemirror_mode": {
    "name": "ipython",
    "version": 3
   },
   "file_extension": ".py",
   "mimetype": "text/x-python",
   "name": "python",
   "nbconvert_exporter": "python",
   "pygments_lexer": "ipython3",
   "version": "3.7.4"
  }
 },
 "nbformat": 4,
 "nbformat_minor": 2
}
