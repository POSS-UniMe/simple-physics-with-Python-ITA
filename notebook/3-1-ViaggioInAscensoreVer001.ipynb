{
 "cells": [
  {
   "cell_type": "markdown",
   "metadata": {},
   "source": [
    "# Viaggio in ascensore\n",
    "### -- Esperimento sul moto 1D ed analisi dati --\n",
    "\n",
    "Il movimento di un ascensore è un esempio di moto 1D. Obiettivo di questo esempio è quello di studiare la posizione, la velocità e l'accelerazione in funzione del tempo.\n",
    "\n",
    "![](img/ascensore.jpg)\n",
    "\n",
    "\n",
    "#### Descrizione\n",
    "\n",
    "La posizione dell'ascensore lungo la direzione verticale può essere registrata tramite una App per smartphone ([**phyphox**](https://phyphox.org/)). \n",
    "L'applicazione misura la pressione atmosferica e calcola le variazioni di quota rispetto alla posizione iniziale, utilizzando un opportuno algoritmo.\n",
    "\n",
    "1. Si effettua un esperimento, registrando i valori di quota in funzione del tempo\n",
    "2. I dati vengono memorizzati in un file di testo (*Tab separated values*) che ha la seguente struttura\n",
    "\n",
    "Time (s) | Pressure (hPa) | Height (m) | Xxxxxx | Xxxxxxxx \n",
    "---------|----------------|------------|--------|----------\n",
    "1.002612265E0 | 1.013205700E3 | 0.000000000E0| XXXXXX | XXXXXX\n",
    "2.003274159E0 | 1.013197046E3 | 7.205260740E-2| XXXXXX | XXXXXX\n",
    "\n",
    "3. A noi interessa leggere i dati della prima colonna e della terza colonna, per ottenere una **tabella oraria** del moto che vogliamo studiare, cioè un insieme di dati organizzati nel modo seguente\n",
    "\n",
    "Time (s) | Height (m) \n",
    "---------|----------------\n",
    "1.002612265E0 | 0.000000000E0\n",
    "2.003274159E0 | 7.205260740E-2\n",
    "\n",
    "4. Si vuole ottenere innanzitutto una rappresentazione grafica dei dati, basandoci sul modulo [MatPlotLib](https://matplotlib.org/) di Python.\n",
    "5. Si vogliono analizzare i dati per ottenere i valori di velocità in funzione del tempo.\n",
    "6. Si vuole rappresentare graficamente l'andamento della velocità in funzione del tempo.\n",
    "7. Salvare i grafici e i risultati dell'analisi dati in un file.\n",
    "8. Discutere i risultati\n",
    "9. Calcolare i valori dell'accelerazione in funzione del tempo e confrontarli con i valori di accelerazione misurati simultaneamente da un altro sensore (accelerometro) con la stessa App.\n",
    "\n",
    "##### 1. Esperimento\n",
    "Installare sullo smartphone l'applicazione [phyphox](phyphox.org) e fra i menu disponibili scegliere sotto la voce **Vita quotidiana** l'esperimento **Ascensore**. Tasto **play** per iniziare la misura.\n",
    "\n",
    "![](img/phyphox.png)\n",
    "\n",
    "-- N.B. Servirà un ascensore\n",
    "\n",
    "&nbsp;\n",
    "\n",
    "##### 2. Salvare i dati\n",
    "Dal tasto con i tre puntini verticali in alto a destra dello schermo dello smartphone scegliere **Esporta dati** e scegliere il formato preferito dei dati: per questo esempio scegliamo **CSV(Tabulator, decimal point)**\n",
    "Una volta salvato il file dati si può trasferire dallo smartphone al computer, per i passi successivi dell'esperimento.\n",
    "\n",
    "Dati disponibili |\n",
    "-----------------|\n",
    "Trip01-Height.csv\n",
    "Trip02-Height.csv\n",
    "Trip03-Height.csv\n",
    "\n",
    "##### 3.-4.  Leggere i dati e  rappresentarli in un grafico\n",
    "Per leggere i dati e rappresentarli in grafico utilizziamo i moduli [numpy](nupmy.org) e [matplotlib]() di Python.\n",
    "Il codice che utilizziamo è basato su esempi descritti in [1](https://physics.nyu.edu/pine/pymanual/html/pymanMaster.html), [2](http://stacks.iop.org/PhysED/55/033006/mmedia) e [3](https://github.com/POSS-UniMe/RCwithRPi).\n",
    "\n",
    "Per la lettura del file di testo utilizziamo la funzione **loadtxt** del modulo **numpy** con l'opzione **skiprows**, che permette di saltare le prime $n$ righe, e con l'opzione **usecols**, che permette di selezionare le colonne che vogliamo leggere (rif. [4](https://numpy.org/doc/stable/reference/generated/numpy.loadtxt.html))"
   ]
  },
  {
   "cell_type": "code",
   "execution_count": 5,
   "metadata": {},
   "outputs": [
    {
     "name": "stdout",
     "output_type": "stream",
     "text": [
      "\n"
     ]
    },
    {
     "data": {
      "image/png": "[encoded data removed]",
      "text/plain": [
       "<Figure size 432x288 with 1 Axes>"
      ]
     },
     "metadata": {
      "needs_background": "light"
     },
     "output_type": "display_data"
    },
    {
     "name": "stdout",
     "output_type": "stream",
     "text": [
      "\n"
     ]
    }
   ],
   "source": [
    "import numpy as np\n",
    "import matplotlib.pyplot as plt\n",
    "\n",
    "inputDataFile='data/Trip01-Height.csv'\n",
    "\n",
    "# read data from file\n",
    "t, x = np.loadtxt(inputDataFile, skiprows=1, usecols=(0,2), unpack = True)\n",
    "\n",
    "# plot of the experimental data\n",
    "plt.plot(t, x, 'o', color='blue', markersize = 3)\n",
    "plt.axhline(color = 'gray', zorder = -1)\n",
    "plt.axvline(color = 'gray', zorder = -1)\n",
    "plt.xlabel('time  $t$ (s)')\n",
    "plt.ylabel('height $h$ (m)')\n",
    "plt.text(27, 1.8, inputDataFile)\n",
    "\n",
    "#plt.savefig('height_vs_time.pdf')\n",
    "print()\n",
    "plt.show()\n",
    "print()"
   ]
  },
  {
   "cell_type": "markdown",
   "metadata": {},
   "source": [
    "##### 5. Calcolare la velocità\n",
    "La velocità media in ciascun intervallo di tempo del tipo $[t_1, t_2]$ viene calcolata in base alla semplice relazione\n",
    "$$ v = \\dfrac{\\Delta x}{\\Delta t}$$\n",
    "ed associamo questo valore $v_1$ al tempo $t'_1$ ottenuto come valore medio fra $t_1$ e $t_2$.\n",
    "\n",
    "Per calcolare gli spostamenti $\\Delta x$ e la durata degli intervalli di tempo $\\Delta t$ fra due misure successive usiamo la funzione **numpy.diff()**\n",
    "\n",
    "I valori calcolati vengono scritti sul file di testo **speedDataFile** formato da due colonne: la prima colonna contiene i valori di tempo, la seconda contiene i valori di velocità.\n",
    "\n",
    "Per effettuare i calcoli e memorizzare i dati su file, aggiungiamo alcune righe di codice allo script precedente.\n"
   ]
  },
  {
   "cell_type": "code",
   "execution_count": 6,
   "metadata": {},
   "outputs": [],
   "source": [
    "speedDataFile='data/Trip01-Speed.csv'\n",
    "np.set_printoptions(precision=20)\n",
    "delta_t = np.diff(t)\n",
    "delta_x = np.diff(x)\n",
    "v = delta_x / delta_t\n",
    "t_prime = t[:-1] + (delta_t/2)\n",
    "np.savetxt(speedDataFile, np.column_stack((t_prime, v)))"
   ]
  },
  {
   "cell_type": "markdown",
   "metadata": {},
   "source": [
    "##### 6. Grafico della velocità in funzione del tempo\n",
    "Per produrre un grafico della velocità in funzione del tempo usiamo la libreria Matplotlib.\n",
    "\n",
    "Riportiamo nel grafico il nome del file in cui sono scritti i valori delle variabili tempo e velocità."
   ]
  },
  {
   "cell_type": "code",
   "execution_count": 7,
   "metadata": {},
   "outputs": [
    {
     "data": {
      "image/png": "[encoded data removed]",
      "text/plain": [
       "<Figure size 432x288 with 1 Axes>"
      ]
     },
     "metadata": {
      "needs_background": "light"
     },
     "output_type": "display_data"
    }
   ],
   "source": [
    "plt.plot(t_prime, v, 'o', color='red', markersize = 5)\n",
    "plt.axhline(color = 'gray', zorder = -1)\n",
    "plt.axvline(color = 'gray', zorder = -1)\n",
    "plt.xlabel('time $t$ (s)')\n",
    "plt.ylabel('velocity $v$ (m s$^{-1}$)')\n",
    "plt.text(20, 0.2, speedDataFile)\n",
    "plt.draw()\n",
    "plt.show()"
   ]
  },
  {
   "cell_type": "markdown",
   "metadata": {},
   "source": [
    "##### 7. Grafico cumulativo di quota e velocità\n",
    "Vogliamo riportare insieme i due grafici precedenti, a scopo di confronto. Come riferimento utilizziamo la documentazione del modulo matplotlib (v.rif.[5](https://matplotlib.org/3.3.1/gallery/subplots_axes_and_figures/subplot.html))"
   ]
  },
  {
   "cell_type": "code",
   "execution_count": 8,
   "metadata": {},
   "outputs": [
    {
     "data": {
      "text/plain": [
       "Text(20, 0.2, 'data/Trip01-Speed.csv')"
      ]
     },
     "execution_count": 8,
     "metadata": {},
     "output_type": "execute_result"
    },
    {
     "data": {
      "image/png": "[encoded data removed]",
      "text/plain": [
       "<Figure size 504x648 with 2 Axes>"
      ]
     },
     "metadata": {
      "needs_background": "light"
     },
     "output_type": "display_data"
    }
   ],
   "source": [
    "fig = plt.figure(figsize=(7, 9))\n",
    "\n",
    "plt.subplot(2, 1, 1)\n",
    "plt.plot(t, x, 'o', color='blue', markersize = 3)\n",
    "plt.axhline(color = 'gray', zorder = -1)\n",
    "plt.axvline(color = 'gray', zorder = -1)\n",
    "plt.xlabel('time  $t$ (s)')\n",
    "plt.ylabel('height $h$ (m)')\n",
    "plt.text(27, 1.8, inputDataFile)\n",
    "\n",
    "\n",
    "plt.subplot(2, 1, 2)\n",
    "plt.plot(t_prime, v, 'o', color='red', markersize = 5)\n",
    "plt.axhline(color = 'gray', zorder = -1)\n",
    "plt.axvline(color = 'gray', zorder = -1)\n",
    "plt.xlabel('time $t$ (s)')\n",
    "plt.ylabel('velocity $v$ (m s$^{-1}$)')\n",
    "plt.text(20, 0.2, speedDataFile)\n"
   ]
  },
  {
   "cell_type": "markdown",
   "metadata": {},
   "source": [
    "##### 8. Analisi dei dati\n",
    "* ###### 8.1 Inserire un marker nel grafico\n",
    "\n",
    "Vogliamo inserire nel grafico alcuni marker che ci permettano di individuare un certo intervallo di tempo.\n",
    "Stiamo supponendo che i dati siano già ordinati secondo i tempi in ordine crescente.\n",
    "\n",
    "Il numero di coppie (tempo $t$, quota $h$) è dato dalla dimensione dell'array di numpy corrispondente. Per esempio:"
   ]
  },
  {
   "cell_type": "code",
   "execution_count": 9,
   "metadata": {},
   "outputs": [
    {
     "data": {
      "text/plain": [
       "45"
      ]
     },
     "execution_count": 9,
     "metadata": {},
     "output_type": "execute_result"
    }
   ],
   "source": [
    "np.size(t)"
   ]
  },
  {
   "cell_type": "markdown",
   "metadata": {},
   "source": [
    " Si vuole scegliere un sottoinsieme dei dati, per tempi compresi fra quello corrispondente al **MarkerOne** e quello corrispondente al **MarkerTwo**. \n",
    "\n",
    "* I valori dei due marker vengono scelti usando gli **slider** e\n",
    "* vengono rappresentati anche nei grafici tramite rette verticali colorate."
   ]
  },
  {
   "cell_type": "code",
   "execution_count": 10,
   "metadata": {},
   "outputs": [
    {
     "data": {
      "application/vnd.jupyter.widget-view+json": {
       "model_id": "ed7289529c2f4329aedf917599be402b",
       "version_major": 2,
       "version_minor": 0
      },
      "text/plain": [
       "interactive(children=(IntSlider(value=0, continuous_update=False, description='MarkerOne', max=44), IntSlider(…"
      ]
     },
     "metadata": {},
     "output_type": "display_data"
    },
    {
     "data": {
      "text/plain": [
       "<function __main__.calculate(MarkerOne, MarkerTwo)>"
      ]
     },
     "execution_count": 10,
     "metadata": {},
     "output_type": "execute_result"
    }
   ],
   "source": [
    "import ipywidgets as widgets\n",
    "\n",
    "sliderMarkerOne = widgets.IntSlider(min = 0, max = (np.size(t)-1), step = 1, value = 0, continuous_update = False)\n",
    "sliderMarkerTwo = widgets.IntSlider(min = 0, max = (np.size(t)-1), step = 1, value = 0, continuous_update = False)\n",
    "\n",
    "def calculate(MarkerOne, MarkerTwo):\n",
    "        print('Marker One = ',MarkerOne, '      Marker Two = ', MarkerTwo, '\\n')\n",
    "        MarkerOneTime = t[MarkerOne]   \n",
    "        MarkerTwoTime = t[MarkerTwo]\n",
    "        print ('Time One', MarkerOneTime, 's', '      Time Two = ', MarkerTwoTime, '\\n')\n",
    "        makeplots(MarkerOne,MarkerTwo)\n",
    "        t_subset = t[MarkerOne:MarkerTwo]\n",
    "        x_subset = x[MarkerOne:MarkerTwo]\n",
    "        \n",
    "def makeplots(MarkerOne, MarkerTwo):\n",
    "    fig = plt.figure(figsize=(7, 9))\n",
    "   # plt.ion()\n",
    "    plt.subplot(2, 1, 1)\n",
    "    plt.plot(t, x, 'o', color='blue', markersize = 3)\n",
    "    plt.plot(t[MarkerOne],x[MarkerOne], 'o', color='red', markersize = 6)\n",
    "    plt.plot(t[MarkerTwo],x[MarkerTwo], 'o', color='cyan', markersize = 7)\n",
    "    plt.axhline(color = 'gray', zorder = -1)\n",
    "    plt.axvline(color = 'gray', zorder = -1)\n",
    "    plt.axvline(color = 'magenta', x = t[MarkerOne], zorder = -1)\n",
    "    plt.axvline(color = 'cyan', x = t[MarkerTwo], zorder = -1)\n",
    "    plt.xlabel('time  $t$ (s)')\n",
    "    plt.ylabel('height $h$ (m)')\n",
    "    plt.text(27, 1.8, inputDataFile)\n",
    "\n",
    "\n",
    "    plt.subplot(2, 1, 2)\n",
    "    plt.plot(t_prime, v, 'o', color='red', markersize = 5)\n",
    "    plt.axhline(color = 'gray', zorder = -1)\n",
    "    plt.axvline(color = 'gray', zorder = -1)\n",
    "    plt.axvline(color = 'magenta', x = t[MarkerOne], zorder = -1)\n",
    "    plt.axvline(color = 'cyan', x = t[MarkerTwo], zorder = -1)\n",
    "    plt.xlabel('time $t$ (s)')\n",
    "    plt.ylabel('velocity $v$ (m s$^{-1}$)')\n",
    "    plt.text(20, 0.2, speedDataFile)\n",
    "        \n",
    "widgets.interact(calculate, MarkerOne = sliderMarkerOne, MarkerTwo = sliderMarkerTwo)"
   ]
  },
  {
   "cell_type": "markdown",
   "metadata": {},
   "source": [
    "* ###### 8.2 Fit lineare dei dati di $x(t)$ in un intervallo di tempo scelto\n",
    "\n",
    "Ipotesi: moto uniforme\n",
    "\n",
    "Se in un certo intervallo di tempo il moto è uniforme, comunque scelti due istanti di tempo, $t_1$ e $t_2$ in tale intervallo, il rapporto $ (x_2-x_1)/(t_2-t_1) $ è costante ed uguale a $v$. Se fissiamo $t_1$, per un istante $t$ generico dovrà essere\n",
    "\n",
    "$$ \\dfrac{x-x_1}{t-t_1} = v $$\n",
    "\n",
    "da cui segue\n",
    "\n",
    "$$ x - x_1 = v (t-t_1)  \\hspace{1cm} \\text{e quindi} \\hspace{1 cm}  x = v t + (x_1 - v t_1) $$\n",
    "\n",
    "In altri termini, in un intervallo di tempo in cui il moto è uniforme, il grafico di $x$ in funzione del tempo $t$ è lineare, ed è descritto da un'equazione del tipo\n",
    "\n",
    "$$ x = A t + B $$\n",
    "\n",
    "I valori dei parametri $A$ e $B$ che corrispondono alla retta che meglio approssima i dati sperimentali si ottengono tramite un metodo che minimizza la somma dei quadrati degli scarti fra i valori teorici ed i valori sperimentali misurati \\[[5](https://nbviewer.jupyter.org/github/engineersCode/EngComp1_offtheground/blob/master/notebooks_en/5_Linear_Regression_with_Real_Data.ipynb), [6](https://physics.nyu.edu/pine/pymanual/html/chap7/chap7_funcs.html#example-linear-least-squares-fitting\\)].\n",
    "\n",
    "&nbsp;"
   ]
  },
  {
   "cell_type": "code",
   "execution_count": 14,
   "metadata": {},
   "outputs": [
    {
     "name": "stdout",
     "output_type": "stream",
     "text": [
      "\n",
      " Estimated value of the velocity (from the linear fit)\n",
      "\n",
      " v = 0.942 m/s \n",
      "\n"
     ]
    }
   ],
   "source": [
    "t_subset = t[sliderMarkerOne.value:sliderMarkerTwo.value]\n",
    "x_subset = x[sliderMarkerOne.value:sliderMarkerTwo.value]\n",
    "\n",
    "def LineFit(x,y):\n",
    "    x_avg = x.mean()\n",
    "    slope =  (y*(x-x_avg)).sum()/(x*(x-x_avg)).sum()\n",
    "    y_intercept = y.mean() - slope * x_avg\n",
    "    return slope, y_intercept\n",
    "\n",
    "v_est, x_intercept = LineFit(t_subset, x_subset)\n",
    "\n",
    "\n",
    "print('\\n Estimated value of the velocity (from the linear fit)')\n",
    "print('\\n v = {0:0.3} m/s \\n'.format(v_est))\n",
    "#print('$x_intercept$', x_intercept, 'm', '\\n')\n"
   ]
  },
  {
   "cell_type": "markdown",
   "metadata": {},
   "source": [
    "* ###### 8.3 Confronto grafico fra i dati sperimentali ed il fit lineare\n",
    "\n",
    "Costruiamo un grafico in cui oltre ai dati sperimentali è riportato anche l'andamento previsto in un certo intervallo di tempo in caso di moto con velocità costante, utilizzando i valori dei parametri calcolati tramite la procedura di **best-fit** della sezione precedente.\n",
    "\n",
    "Definiamo alcuni particolari del grafico utilizzando le funzioni [plot](https://matplotlib.org/api/_as_gen/matplotlib.pyplot.plot.html),\n",
    "[linestyle](https://matplotlib.org/api/_as_gen/matplotlib.lines.Line2D.html#matplotlib.lines.Line2D.set_linestyle), \n",
    "[axvline](https://matplotlib.org/3.1.1/api/_as_gen/matplotlib.pyplot.axvline.html), \n",
    "[legend](https://matplotlib.org/api/_as_gen/matplotlib.pyplot.legend.html).\n",
    "\n",
    "Infine memorizziamo il grafico in un file utilizzando la funzione [savefig](https://matplotlib.org/api/_as_gen/matplotlib.pyplot.savefig.html)\n",
    " della libreria **matplotlib**."
   ]
  },
  {
   "cell_type": "code",
   "execution_count": 22,
   "metadata": {},
   "outputs": [
    {
     "name": "stdout",
     "output_type": "stream",
     "text": [
      "\n"
     ]
    },
    {
     "data": {
      "image/png": "[encoded data removed]",
      "text/plain": [
       "<Figure size 504x648 with 2 Axes>"
      ]
     },
     "metadata": {
      "needs_background": "light"
     },
     "output_type": "display_data"
    }
   ],
   "source": [
    "x_fit = v_est * t_subset + x_intercept\n",
    "\n",
    "#\n",
    "v_fit = x_fit/x_fit*v_est\n",
    "#\n",
    "print()\n",
    "\n",
    "fig = plt.figure(figsize=(7, 9))\n",
    "   # plt.ion()\n",
    "plt.subplot(2, 1, 1)\n",
    "plt.plot(t, x, 'o', color='blue', markersize = 3, label = 'data')\n",
    "plt.plot(t_subset,x_fit, '-', color='yellow', linewidth = 3, zorder = -1, label = 'fit')\n",
    "plt.axhline(color = 'gray', zorder = -1)\n",
    "plt.axvline(color = 'gray', zorder = -1)\n",
    "plt.axvline(color = 'magenta', x = t_subset[0], linewidth = 1, linestyle = '--', zorder = -1)\n",
    "plt.axvline(color = 'cyan', x = t_subset[-1],linewidth = 1, linestyle = '--', zorder = -1)\n",
    "plt.xlabel('time  $t$ (s)')\n",
    "plt.ylabel('height $h$ (m)')\n",
    "plt.text(27, 1.8, inputDataFile)\n",
    "plt.legend(loc='upper center', shadow=True, fontsize='large')\n",
    "\n",
    "\n",
    "plt.subplot(2, 1, 2)\n",
    "plt.plot(t_prime, v, 'o', color='red', markersize = 5)\n",
    "plt.plot(t_subset,v_fit,'-', color = 'orange', linewidth = 3)\n",
    "plt.axhline(color = 'gray', zorder = -1)\n",
    "plt.axvline(color = 'gray', zorder = -1)\n",
    "plt.axvline(color = 'magenta', x = t_subset[0], linewidth = 1, linestyle = '--', zorder = -1)\n",
    "plt.axvline(color = 'cyan', x = t_subset[-1], linewidth = 1, linestyle = '--', zorder = -1)\n",
    "plt.xlabel('time $t$ (s)')\n",
    "plt.ylabel('velocity $v$ (m s$^{-1}$)')\n",
    "plt.text(20, 0.2, speedDataFile)\n",
    "\n",
    "plt.savefig('data/height+speed.pdf')\n"
   ]
  },
  {
   "cell_type": "markdown",
   "metadata": {},
   "source": [
    "##### 9. Calcolo dell'accelerazione e confronto con i valori misurati\n",
    "* ###### 9.1  Calcolo\n",
    "\n",
    "La situazione è analoga a quella che riguarda il calcolo della velocità media nei vari intervalli di tempo.\n",
    "L'accelerazione media in ciascun intervallo di tempo del tipo $[t'_1, t'_2]$ viene calcolata in base alla semplice relazione\n",
    "$$ a = \\dfrac{\\Delta v}{\\Delta t}$$\n",
    "ed associamo questo valore $a_1$ al tempo $t\"_1$ ottenuto come valore medio fra $t'_1$ e $t'_2$.\n",
    "\n",
    "Per calcolare le variazioni di velocità, cioè per calcolare $\\Delta v$ e la durata degli intervalli di tempo $\\Delta t'$ fra due dati successivi usiamo la funzione **numpy.diff()**"
   ]
  },
  {
   "cell_type": "code",
   "execution_count": 19,
   "metadata": {},
   "outputs": [],
   "source": [
    "accelerationDataFile='data/Trip01-Acceleration.csv'\n",
    "np.set_printoptions(precision=20)\n",
    "delta_t_prime = np.diff(t_prime)\n",
    "delta_v = np.diff(v)\n",
    "a = delta_v / delta_t_prime\n",
    "t_double_prime = t_prime[:-1] + (delta_t_prime/2)\n",
    "np.savetxt(accelerationDataFile, np.column_stack((t_double_prime, a)))"
   ]
  },
  {
   "cell_type": "markdown",
   "metadata": {},
   "source": [
    "* ###### 9.2 Grafico \n",
    "\n",
    "Vogliamo visualizzare l'andamento grafico dell'accelerazione $a$ in funzione del tempo. Inoltre vogliamo effettuare il confronto con i valori di accelerazione misurati con un accelerometro. Questi ultimi sono memorizzati in un file di testo (*Tab separated values*) che ha la seguente struttura\n",
    "\n",
    "Time (s) | Acceleration (m/s$^2$)  \n",
    "---------|----------------\n",
    "2.003207003250000007e+00 | -9.390230845239912194e-02 \n"
   ]
  },
  {
   "cell_type": "code",
   "execution_count": 37,
   "metadata": {},
   "outputs": [
    {
     "name": "stdout",
     "output_type": "stream",
     "text": [
      "\n"
     ]
    },
    {
     "data": {
      "image/png": "[encoded data removed]",
      "text/plain": [
       "<Figure size 432x288 with 1 Axes>"
      ]
     },
     "metadata": {
      "needs_background": "light"
     },
     "output_type": "display_data"
    }
   ],
   "source": [
    "print()\n",
    "#\n",
    "#\n",
    "accelerometerDataFile='data/Trip01-Accelerometer.csv'\n",
    "#\n",
    "# read data from file\n",
    "t_exp, accel = np.loadtxt(accelerometerDataFile, skiprows=1, unpack = True)\n",
    "\n",
    "\n",
    "plt.plot(t_double_prime, a, 'o', color='green', markersize = 6, label = 'calculated')\n",
    "plt.plot(t_exp,accel, 'd', color = 'black', markersize = 3, label = 'accelerometer')\n",
    "plt.axhline(color = 'gray', zorder = -1)\n",
    "plt.axvline(color = 'gray', zorder = -1)\n",
    "plt.xlabel('time $t$ (s)')\n",
    "plt.ylabel('acceleration $a$ (m s$^{-2}$)')\n",
    "plt.ylim(-1.5,1.5)\n",
    "plt.legend(loc='upper center', shadow=True, fontsize='large')\n",
    "plt.draw()\n",
    "plt.show()"
   ]
  },
  {
   "cell_type": "markdown",
   "metadata": {},
   "source": [
    "#### Suggerimento\n",
    "I risultati ottenuti possono essere discussi efficacemente mettendo a confronto questo grafico con il grafico che mostra l'andamento della velocità in funzione del tempo."
   ]
  },
  {
   "cell_type": "markdown",
   "metadata": {},
   "source": [
    "## What we have learned\n",
    "*Fisica*\n",
    "* Acquisire i dati riguardanti un esperimento con strumentazione portatile (uno smartphone con l'App **phyphox**)\n",
    "* Elaborare i dati che forniscono la posizione in funzione del tempo e calcolare la velocità e l'accelerazione.\n",
    "* Studiare il moto considerando l'andamento grafico delle variabili che descrivono posizione, velocità e accelerazione.\n",
    "\n",
    "*Python*\n",
    "* Leggere i dati da un file di testo\n",
    "* Riportare i dati in un grafico\n",
    "* Salvare i dati calcolati in un file di testo\n",
    "* Produrre più grafici in una stessa figura\n",
    "* Selezionare un sottoinsieme dei dati\n",
    "* Ottenere un fit lineare di un insieme di dati\n",
    "* Confrontare diversi set di dati in uno stesso grafico\n",
    "* Memorizzare i grafici in un file"
   ]
  },
  {
   "cell_type": "markdown",
   "metadata": {},
   "source": [
    "## References and notes\n",
    "\n",
    "#### Rappresentazione grafica dei dati\n",
    "1. [Introduction to Python for Science and Engineering](https://physics.nyu.edu/pine/pymanual/html/pymanMaster.html)\n",
    "2. [Experiments and data analysis on one-dimensional motion with Raspberry Pi and Python](http://stacks.iop.org/PhysED/55/033006/mmedia)\n",
    "3. [Circuits with Raspberry Pi and Python](https://github.com/POSS-UniMe/RCwithRPi)\n",
    "4. [Reading data from a text file with **loadtxt**](https://numpy.org/doc/stable/reference/generated/numpy.loadtxt.html)\n",
    "     * \"This function aims to be a fast reader for simply formatted files. The **genfromtxt** function provides more sophisticated handling of, e.g., lines with missing values.\"\n",
    "\n",
    "#### Fit lineare dei dati\n",
    "\n",
    "5. Lorena A. Barba, Natalia C. Clementi,  *Linear regression with real data*, [Engineering Computation](https://nbviewer.jupyter.org/github/engineersCode/EngComp1_offtheground/blob/master/notebooks_en/5_Linear_Regression_with_Real_Data.ipynb), GitHub \n",
    "\n",
    "6. David J. Pine, *Linear least squares fitting*, \n",
    " [Introduction to Python for Science](https://physics.nyu.edu/pine/pymanual/html/chap7/chap7_funcs.html#example-linear-least-squares-fitting) \n",
    " \n",
    "#### Funzioni della libreria *matplotlib*\n",
    "\n",
    "7. [plot](https://matplotlib.org/api/_as_gen/matplotlib.pyplot.plot.html)\n",
    "\n",
    "8. [linestyle](https://matplotlib.org/api/_as_gen/matplotlib.lines.Line2D.html#matplotlib.lines.Line2D.set_linestyle)\n",
    "\n",
    "9. [axvline](https://matplotlib.org/3.1.1/api/_as_gen/matplotlib.pyplot.axvline.html)\n",
    "\n",
    "10. [legend](https://matplotlib.org/api/_as_gen/matplotlib.pyplot.legend.html)\n",
    "\n",
    "11. [savefig](https://matplotlib.org/api/_as_gen/matplotlib.pyplot.savefig.html)\n"
   ]
  },
  {
   "cell_type": "markdown",
   "metadata": {},
   "source": []
  }
 ],
 "metadata": {
  "kernelspec": {
   "display_name": "Python 3",
   "language": "python",
   "name": "python3"
  },
  "language_info": {
   "codemirror_mode": {
    "name": "ipython",
    "version": 3
   },
   "file_extension": ".py",
   "mimetype": "text/x-python",
   "name": "python",
   "nbconvert_exporter": "python",
   "pygments_lexer": "ipython3",
   "version": "3.7.4"
  }
 },
 "nbformat": 4,
 "nbformat_minor": 2
}
