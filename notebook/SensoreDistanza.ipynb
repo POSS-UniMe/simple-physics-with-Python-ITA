{
 "cells": [
  {
   "cell_type": "markdown",
   "metadata": {},
   "source": [
    "# Sensore di distanza\n",
    "\n",
    "Un sensore ad ultrasuoni può essere usato come sensore anticollisione. In alcuni nuovi modelli di automobili i sensori ad ultrasuoni rilevano le auto circostanti, segnalano possibili collisioni e forniscono assistenza al parcheggio. Il sensore emette un impulso che si propaga in aria con velocità costante $v = $ 336 m/s. L'impulso viaggia fino all'ostacolo e viene riflesso indietro fino a raggiungere nuovamente il sensore.\n",
    "\n",
    "Se la distanza sensore-ostacolo è di 3 m, calcolare la durata dell'intervallo di tempo che intercorre fra l'istante in cui l'impulso viene inviato e l'istante in cui l'impulso, riflesso dall'ostacolo, raggiunge il sensore.\n",
    "\n",
    "\n",
    "### Discussione dell'esempio\n",
    "\n",
    "Se $d$ è la distanza fra il sensore e l'ostacolo, lo spazio percorso dall'impulso ultrasonico è $\\Delta x = 2 d$.\n",
    "\n",
    "La propagazione dell'onda ultrasonica avviene con velocità costante $v$. \n",
    "\n",
    "Nel moto uniforme il legame fra lo spazio percorso e l'intervallo di tempo (*tempo di volo*) necessario a percorrerlo è espresso dalla relazione\n",
    "\n",
    "$v = \\dfrac{\\Delta x}{\\Delta t}$\n",
    "\n",
    "In questo caso si ha quindi\n",
    "\n",
    "$\\Delta t = \\dfrac{\\Delta x}{v} = \\dfrac{2 d}{v}$\n",
    "\n",
    "\n",
    "### Svolgimento dei calcoli in Python\n",
    "\n"
   ]
  },
  {
   "cell_type": "code",
   "execution_count": 3,
   "metadata": {},
   "outputs": [
    {
     "name": "stdout",
     "output_type": "stream",
     "text": [
      "\n",
      " distanza sensore-ostacolo 3 m \n",
      "\n",
      "tempo di volo 17.857 ms\n"
     ]
    }
   ],
   "source": [
    "v = 336   # velocità di propagazione (m/s)\n",
    "d = 3     # distanza sensore-ostacolo (m)\n",
    "Dt = 2 * d / v     # tempo di volo (s)\n",
    "\n",
    "print('\\n','distanza sensore-ostacolo', d, 'm', '\\n')\n",
    "print('tempo di volo {0:0.3f} ms'.format(Dt*1000))"
   ]
  },
  {
   "cell_type": "markdown",
   "metadata": {},
   "source": [
    "### Calcoli in modalità interattiva\n",
    "\n",
    "Secondo le specifiche, il sensore ultrasonico di distanza **HC-SR04** può operare nell'intervallo fra 2 cm e 5 m.\n",
    "\n",
    "Utilizzando uno *slider* possiamo calcolare il *tempo di volo* dell'impulso ultrasonico per una qualsiasi distanza sensore-ostacolo compresa nell'intervallo di funzionamento del dispositivo."
   ]
  },
  {
   "cell_type": "code",
   "execution_count": 4,
   "metadata": {},
   "outputs": [
    {
     "name": "stdout",
     "output_type": "stream",
     "text": [
      "\n",
      " distance (cm)\n"
     ]
    },
    {
     "data": {
      "application/vnd.jupyter.widget-view+json": {
       "model_id": "707b9c16b3c84d43b7499dddd0d52478",
       "version_major": 2,
       "version_minor": 0
      },
      "text/plain": [
       "interactive(children=(FloatSlider(value=300.0, description='d', max=500.0, min=2.0), Output()), _dom_classes=(…"
      ]
     },
     "metadata": {},
     "output_type": "display_data"
    },
    {
     "data": {
      "text/plain": [
       "<function __main__.calculate(d)>"
      ]
     },
     "execution_count": 4,
     "metadata": {},
     "output_type": "execute_result"
    }
   ],
   "source": [
    "from ipywidgets import interact\n",
    "import ipywidgets as widgets\n",
    "\n",
    "v = 336     # velocità di propagazione (m/s)\n",
    "\n",
    "print('\\n','distance (cm)')\n",
    "\n",
    "sliderDistance = (widgets.FloatSlider(min = 2, max = 500, step = 0.1, value = 300))     # distanza (cm)\n",
    "\n",
    "def calculate(d):\n",
    "    Dt = 2 * (d/100.)/ v     # tempo di volo (s)\n",
    "    print ('\\n','tempo di volo {0:0.3f} ms'.format(Dt*1000));\n",
    "    \n",
    "widgets.interact(calculate, d = sliderDistance)"
   ]
  },
  {
   "cell_type": "markdown",
   "metadata": {},
   "source": [
    "## References\n",
    "\n",
    "## Recommended readings\n",
    "[Experiments and data analysis on one-dimensional motion with Raspberry Pi and Python](https://iopscience.iop.org/article/10.1088/1361-6552/ab73d2) (see also Supplementary Information)"
   ]
  },
  {
   "cell_type": "code",
   "execution_count": null,
   "metadata": {},
   "outputs": [],
   "source": []
  }
 ],
 "metadata": {
  "kernelspec": {
   "display_name": "Python 3",
   "language": "python",
   "name": "python3"
  },
  "language_info": {
   "codemirror_mode": {
    "name": "ipython",
    "version": 3
   },
   "file_extension": ".py",
   "mimetype": "text/x-python",
   "name": "python",
   "nbconvert_exporter": "python",
   "pygments_lexer": "ipython3",
   "version": "3.7.4"
  }
 },
 "nbformat": 4,
 "nbformat_minor": 2
}
