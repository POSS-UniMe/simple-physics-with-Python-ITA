{
 "cells": [
  {
   "cell_type": "markdown",
   "metadata": {},
   "source": [
    "# Moto circolare uniforme\n",
    "\n",
    "Consideriamo un punto che si muove lungo una circonferenza con velocità costante (**moto circolare uniforme**). \n",
    "* Data la velocità di rotazione in giri al minuto (**rpm**, revolutions per minute), supponiamo 60 **giri/min**, calcolare:\n",
    "    * la frequenza di rotazione, espressa in giri al secondo, ovvero in **hertz**\n",
    "    * il periodo di rotazione, espresso in secondi\n",
    "* Calcolare la **velocità angolare** di rotazione ed esprimerla in\n",
    "    * gradi al secondo e in \n",
    "    * radianti al secondo.\n",
    "    \n",
    "![](img/annotatedCyclette.jpg)\n",
    "\n",
    "* Data la misura del raggio, supponiamo 0.5 m, calcolare la **velocità scalare**, espressa in $m/s$\n",
    "* Calcolare il modulo dell'**accelerazione centripeta**, espresso in $m/s^2$\n",
    "\n",
    "## Discussione del problema\n",
    "\n",
    "#### Velocità di rotazione\n",
    "La velocità di rotazione di un motore in molti casi viene espressa in giri al minuto, come è possibile vedere sugli strumenti di bordo delle automobili.\n",
    "\n",
    "![](img/smallPanel.jpg)\n",
    "\n",
    "#### Frequenza\n",
    "Per esprimere la **frequenza di rotazione** in giri al secondo, considerando che \n",
    "\n",
    "<div class=\"alert alert-block alert-info\">\n",
    "    1 <strong>min</strong> = 60 <strong>s</strong>\n",
    "</div>\n",
    "\n",
    "si ha \n",
    "\n",
    "<div class=\"alert alert-block alert-info\">\n",
    "    frequenza di rotazione (<b>giri/s</b>) = [velocità di rotazione (<b>rpm</b>)] / 60 \n",
    "</div>\n",
    "\n",
    "&nbsp;\n",
    "\n",
    "#### Periodo\n",
    "Il **periodo** di rotazione **T** è l'inverso della frequenza di rotazione\n",
    "\n",
    "<div class=\"alert alert-block alert-info\">\n",
    "    <p style=\"text-align: center;\">\n",
    "        T = 1 / f\n",
    "    </p>\n",
    "</div>\n",
    "\n",
    "&nbsp;\n",
    "\n",
    "#### Velocità angolare\n",
    "Dalla frequenza di rotazione si può ottenere la **velocità angolare** di rotazione in gradi al secondo, considerando che un giro completo di circonferenza corrisponde ad uno spostamento angolare di 360 gradi, si ha\n",
    "\n",
    "<div class=\"alert alert-block alert-info\">\n",
    "    <p style=\"text-align: center;\">\n",
    "        f (<b>giri/s</b>) &sdot; 360 (<b>deg</b>) = &omega; (<b>deg/s</b>)  \n",
    "    </p>\n",
    "</div>\n",
    "\n",
    "Analogamente, considerando che un giro completo corrisponde ad un angolo di 2 $\\pi$ radianti, si ha\n",
    "\n",
    "<div class=\"alert alert-block alert-info\">\n",
    "    <p style=\"text-align: center;\">\n",
    "        f (<b>giri/s</b>) &sdot; 2 &pi; (<b>rad</b>) = &omega; (<b>rad/s</b>)\n",
    "    </p>\n",
    "</div>\n",
    "\n",
    "&nbsp;\n",
    "\n",
    "#### Velocità scalare\n",
    "La velocità con cui si muove il punto materiale lungo la traiettoria circolare è legata alla velocità angolare, espressa in **rad/s**, tramite la relazione\n",
    "\n",
    "<div class=\"alert alert-block alert-info\">\n",
    "    <p style=\"text-align: center;\">v  = &omega; &sdot; r\n",
    "    </p>\n",
    "</div>\n",
    "\n",
    "dove r è la misura del raggio della circonferenza. Se r è espresso in metri, dall'equazione si ottiene la velocità scalare espressa in m/s.\n",
    "\n",
    "#### Accelerazione centripeta\n",
    "Se il punto materiale si muove lungo la circonferenza con velocità costante (**moto circolare uniforme**), l'accelerazione ha direzione radiale ed è orientata verso il centro della circonferenza. Il modulo dell'accelerazione centripeta si può calcolare come\n",
    "\n",
    "<div class=\"alert alert-block alert-success\">\n",
    "    <p style=\"text-align: center;\"> a<sub>c</sub> = v<sup>2</sup> / r </p>\n",
    "</div>\n",
    "oppure come\n",
    "<div class=\"alert alert-block alert-success\">\n",
    "    <p style=\"text-align: center;\"> a<sub>c</sub> = &omega;<sup>2</sup> &sdot; r </p>\n",
    "</div>\n"
   ]
  },
  {
   "cell_type": "markdown",
   "metadata": {},
   "source": [
    "## Svolgimento dei calcoli con Python"
   ]
  },
  {
   "cell_type": "code",
   "execution_count": 75,
   "metadata": {},
   "outputs": [
    {
     "data": {
      "text/markdown": [
       "<br> Rotation speed 60 rpm"
      ],
      "text/plain": [
       "<IPython.core.display.Markdown object>"
      ]
     },
     "metadata": {},
     "output_type": "display_data"
    },
    {
     "data": {
      "text/markdown": [
       "Radius <br> *r* =  0.5 m <br>"
      ],
      "text/plain": [
       "<IPython.core.display.Markdown object>"
      ]
     },
     "metadata": {},
     "output_type": "display_data"
    },
    {
     "data": {
      "text/markdown": [
       "<br> Frequency <br> *f* =  1.0 Hz"
      ],
      "text/plain": [
       "<IPython.core.display.Markdown object>"
      ]
     },
     "metadata": {},
     "output_type": "display_data"
    },
    {
     "data": {
      "text/markdown": [
       "Period <br>  *T* = 1.0 s"
      ],
      "text/plain": [
       "<IPython.core.display.Markdown object>"
      ]
     },
     "metadata": {},
     "output_type": "display_data"
    },
    {
     "data": {
      "text/markdown": [
       "Angular speed <br> &omega; = 6.283185307179586 rad/s"
      ],
      "text/plain": [
       "<IPython.core.display.Markdown object>"
      ]
     },
     "metadata": {},
     "output_type": "display_data"
    },
    {
     "data": {
      "text/markdown": [
       "Angular speed <br> &omega;<sub>deg</sub> = 360.0 deg/s"
      ],
      "text/plain": [
       "<IPython.core.display.Markdown object>"
      ]
     },
     "metadata": {},
     "output_type": "display_data"
    },
    {
     "data": {
      "text/markdown": [
       "Linear speed <br> v = 3.141592653589793 m/s"
      ],
      "text/plain": [
       "<IPython.core.display.Markdown object>"
      ]
     },
     "metadata": {},
     "output_type": "display_data"
    },
    {
     "data": {
      "text/markdown": [
       "Acceleration <br> a<sub>c</sub> = 19.739208802178716 m/s<sup>2</sup>"
      ],
      "text/plain": [
       "<IPython.core.display.Markdown object>"
      ]
     },
     "metadata": {},
     "output_type": "display_data"
    },
    {
     "name": "stdout",
     "output_type": "stream",
     "text": [
      "\n"
     ]
    },
    {
     "data": {
      "text/markdown": [
       "<table style=\"border:1px solid green;margin-left:auto;margin-right:auto;padding:2px;border-spacing:20px;\" ><tbody><tr><td>Rotation speed</td><td></td><td>60</td><td> rpm</td></tr><tr><td>Radius</td><td>r</td><td>0.5</td><td>m</td></tr><td>Frequency</td><td>f</td><td>1.0</td><td>Hz</td></tr><td>Period</td><td>T</td><td>1.0</td><td>s</td></tr><td>Angular speed</td><td>&omega;</td><td>6.283185307179586</td><td>rad/s</td></tr><td>Angular speed</td><td>&omega;<sub>deg</sub></td><td>360.0</td><td>deg/s</td></tr><td>Linear speed</td><td>v</td><td>3.141592653589793</td><td>m/s</td></tr><td>Acceleration</td><td>a<sub>c</sub></td><td>19.739208802178716</td><td>m/s<sup>2</sup></td></tr></tbody></table>"
      ],
      "text/plain": [
       "<IPython.core.display.Markdown object>"
      ]
     },
     "metadata": {},
     "output_type": "display_data"
    },
    {
     "name": "stdout",
     "output_type": "stream",
     "text": [
      "\n"
     ]
    }
   ],
   "source": [
    "import numpy as np\n",
    "from IPython.display import display, Markdown\n",
    "\n",
    "def printmd(string):\n",
    "    display(Markdown(string))\n",
    "\n",
    "speed_rpm = 60        # rotation speed (rpm)\n",
    "\n",
    "r = 0.5                 # radius  r  (m)\n",
    "\n",
    "\n",
    "\n",
    "f = speed_rpm / 60        # frequency (Hz)\n",
    "\n",
    "T = 1/f                   # period (s)\n",
    "\n",
    "omega = 2 * np.pi * f     # angular speed (rad/s)\n",
    "\n",
    "omega_deg = 360 * f       # angular speed in  degree/second\n",
    "\n",
    "v = omega * r             # speed\n",
    "\n",
    "a = omega * omega * r     # acceleration\n",
    "\n",
    "\n",
    "\n",
    "# display the results as Markdown text\n",
    "\n",
    "printmd('<br> Rotation speed '+str(speed_rpm)+ ' rpm')\n",
    "printmd('Radius <br> *r* =  '+str(r)+ ' m <br>')\n",
    "printmd('<br> Frequency <br> *f* =  '+str(f)+ ' Hz')\n",
    "printmd('Period <br>  *T* = '+str(T)+ ' s')\n",
    "printmd('Angular speed <br> &omega; = '+str(omega)+ ' rad/s')\n",
    "printmd('Angular speed <br> &omega;<sub>deg</sub> = ' + str(omega_deg) + ' deg/s')\n",
    "printmd('Linear speed <br> v = ' + str(v) + ' m/s')\n",
    "printmd('Acceleration <br> a<sub>c</sub> = '+ str(a) + ' m/s<sup>2</sup>')\n",
    "\n",
    "print()\n",
    "\n",
    "\n",
    "# display the results as an HTML table\n",
    "\n",
    "myResults = '<table style=\"border:1px solid green;margin-left:auto;margin-right:auto;padding:2px;border-spacing:20px;\" >' + \\\n",
    "'<tbody><tr><td>Rotation speed</td><td></td><td>' + str(speed_rpm) + '</td><td>' + ' rpm'+'</td>' + \\\n",
    "'</tr><tr><td>'+ 'Radius'+ '</td><td>r</td><td>' + str(r)+ '</td><td>' + 'm' + '</td></tr>' + \\\n",
    "'<td>Frequency</td><td>f</td><td>'+str(f)+'</td><td>' + 'Hz' + '</td></tr>' + \\\n",
    "'<td>Period</td><td>T</td><td>'+str(T)+'</td><td>' + 's' + '</td></tr>' + \\\n",
    "'<td>Angular speed</td><td>&omega;</td><td>'+str(omega)+'</td><td>' + 'rad/s' + '</td></tr>' + \\\n",
    "'<td>Angular speed</td><td>&omega;<sub>deg</sub></td><td>'+str(omega_deg)+'</td><td>' + 'deg/s' + '</td></tr>' + \\\n",
    "'<td>Linear speed</td><td>v</td><td>'+str(v)+'</td><td>' + 'm/s' + '</td></tr>' + \\\n",
    "'<td>Acceleration</td><td>a<sub>c</sub></td><td>'+str(a)+'</td><td>' + 'm/s<sup>2</sup>' + '</td></tr>' + \\\n",
    "'</tbody></table>'\n",
    "printmd(myResults)\n",
    "\n",
    "print()"
   ]
  },
  {
   "cell_type": "markdown",
   "metadata": {},
   "source": [
    "### Get a feeling\n",
    "Un punto materiale si muove di moto circolare uniforme su una circonferenza di raggio $r = 2 m$.\n",
    "* Quanto deve valere la frequenza di rotazione per ottenere un'accelerazione centripeta di $9.8 m/s^2$ <br/>(cioè uguale in modulo all'accelerazione di gravità)?\n",
    "* Quanto vale la velocità scalare?"
   ]
  },
  {
   "cell_type": "markdown",
   "metadata": {},
   "source": [
    "## What we have learned\n",
    "*Fisica*\n",
    "* Velocità di rotazione, frequenza di rotazione\n",
    "* Relazione fra velocità scalare e velocità angolare\n",
    "* Accelerazione nel moto circolare\n",
    "\n",
    "*Python*\n",
    "* Format text of Markdown cells in Jupyter notebooks\n",
    "* Display the results of Python script as Markdown text and tables"
   ]
  },
  {
   "cell_type": "markdown",
   "metadata": {},
   "source": [
    "## References and notes"
   ]
  },
  {
   "cell_type": "markdown",
   "metadata": {},
   "source": [
    "#### Jupyter\n",
    "\n",
    "* [Format text in Jupyter notebook with Markdown](https://www.earthdatascience.org/courses/intro-to-earth-data-science/file-formats/use-text-files/format-text-with-markdown-jupyter-notebook/)\n",
    "    * [Colored boxes](https://medium.com/analytics-vidhya/the-ultimate-markdown-guide-for-jupyter-notebook-d5e5abf728fd)\n",
    "    * Text alignment\n",
    "    * [Greek letters and symbols in HTML](https://www.htmlhelp.com/reference/html40/entities/symbols.html)\n",
    "    * [Subscripts](https://developer.mozilla.org/en-US/docs/Web/HTML/Element/sub)\n",
    "    * [Superscript tags](https://www.geeksforgeeks.org/html-subscript-superscript-tags/)\n",
    "    * New line in the same paragraph with      ```     <br/>      ``` \n",
    "* Output the results of Python code as Markdown text\n",
    "    * [a](https://discourse.jupyter.org/t/how-to-add-markdown-inside-a-function-to-pretty-print-equation/2719), [b](https://stackoverflow.com/questions/36288670/how-to-programmatically-generate-markdown-output-in-jupyter-notebooks), [c](https://stackoverflow.com/questions/52812231/print-variable-in-jupyter-notebook-markdown-cell-python), [d](https://github.com/ipython-contrib/jupyter_contrib_nbextensions), [e](https://jupyter-contrib-nbextensions.readthedocs.io/en/latest/nbextensions/python-markdown/readme.html)\n",
    "* Output the results of Python code as a Table\n",
    "    * [f](https://www.datacamp.com/community/tutorials/markdown-in-jupyter-notebook), [g](https://medium.com/analytics-vidhya/the-ultimate-markdown-guide-for-jupyter-notebook-d5e5abf728fd)"
   ]
  },
  {
   "cell_type": "code",
   "execution_count": null,
   "metadata": {},
   "outputs": [],
   "source": []
  }
 ],
 "metadata": {
  "kernelspec": {
   "display_name": "Python 3",
   "language": "python",
   "name": "python3"
  },
  "language_info": {
   "codemirror_mode": {
    "name": "ipython",
    "version": 3
   },
   "file_extension": ".py",
   "mimetype": "text/x-python",
   "name": "python",
   "nbconvert_exporter": "python",
   "pygments_lexer": "ipython3",
   "version": "3.7.4"
  }
 },
 "nbformat": 4,
 "nbformat_minor": 2
}
