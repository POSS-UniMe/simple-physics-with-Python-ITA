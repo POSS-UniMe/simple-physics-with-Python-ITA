{
 "cells": [
  {
   "cell_type": "markdown",
   "metadata": {},
   "source": [
    "# Misura degli angoli\n",
    "\n",
    "![](img/annotatedSandAngle.jpg)\n",
    "\n",
    "A quanti gradi corrisponde un radiante?\n",
    "\n",
    "Disegnare un settore circolare che corrisponde ad un angolo la cui misura è un radiante.\n",
    "\n",
    "## Discussione\n",
    "Dato un arco di circonferenza di raggio $r$ e lunghezza $s$, la misura in **radianti** dell'angolo $\\theta$ sotteso dall'arco $s$ è data dal rapporto fra la lunghezza dell'arco di circonferenza e la lunghezza del raggio.\n",
    "\\begin{equation*}\n",
    "\\theta = \\dfrac{s}{r}\n",
    "\\end{equation*}\n",
    "\n",
    "<img src=\"img/smallWatermelonSide.jpg\" alt=\"drawing\" width=\"500\"/>\n",
    "<img src=\"img/smallWatermelonFront.jpg\" alt=\"drawing\" width=\"500\"/>\n",
    "\n",
    "* Un angolo di un radiante è l'angolo sotteso da un arco di circonferenza la cui lunghezza è pari al raggio.\n",
    "\n",
    "* La misura di un *angolo giro* è pari a $2\\pi$ **radianti**, che corrispondono a $360$ **gradi**.\n",
    "\n",
    "* La misura in radianti è legata alla misura in gradi tramite la relazione\n",
    "\\begin{equation*}\n",
    "\\dfrac{\\theta_{rad}}{2\\pi} = \\dfrac{\\theta °}{360°}\n",
    "\\end{equation*}\n",
    "\n",
    "da cui\n",
    "\\begin{equation*}\n",
    "\\theta ° = \\theta_{rad} \\dfrac{180}{\\pi}\n",
    "\\end{equation*}\n",
    "\n",
    "\n",
    "## Svolgimento dei calcoli con Python\n",
    "### Conversione da radianti a gradi"
   ]
  },
  {
   "cell_type": "code",
   "execution_count": 2,
   "metadata": {},
   "outputs": [
    {
     "name": "stdout",
     "output_type": "stream",
     "text": [
      "\n"
     ]
    },
    {
     "data": {
      "text/markdown": [
       "$\\theta_{rad}$ = 1 **rad**\n"
      ],
      "text/plain": [
       "<IPython.core.display.Markdown object>"
      ]
     },
     "metadata": {},
     "output_type": "display_data"
    },
    {
     "data": {
      "text/markdown": [
       "$\\theta_{deg}$ = 57.29577951308232 **deg**\n"
      ],
      "text/plain": [
       "<IPython.core.display.Markdown object>"
      ]
     },
     "metadata": {},
     "output_type": "display_data"
    },
    {
     "name": "stdout",
     "output_type": "stream",
     "text": [
      "\n"
     ]
    },
    {
     "data": {
      "text/markdown": [
       "\n",
       "Misura dell'angolo in radianti e corrispondente valore in gradi, \n",
       "approssimato alla terza cifra decimale,\n",
       "\n",
       "|&theta; rad |&theta; deg|\n",
       "|-------|-------|\n",
       "|1|57.296| \n"
      ],
      "text/plain": [
       "<IPython.core.display.Markdown object>"
      ]
     },
     "execution_count": 2,
     "metadata": {},
     "output_type": "execute_result"
    }
   ],
   "source": [
    "import numpy as np\n",
    "from IPython.display import display, Markdown\n",
    "\n",
    "theta_rad = 1\n",
    "theta_deg = theta_rad * 180/np.pi\n",
    "\n",
    "print()\n",
    "display(Markdown(r'$\\theta_{rad}$'+' = '+ str(theta_rad) + ' **rad**\\n'))\n",
    "\n",
    "display(Markdown(r'$\\theta_{deg}$'+' = '+ str(theta_deg) + ' **deg**\\n'))\n",
    "print()\n",
    "\n",
    "Markdown(\"\"\"\n",
    "Misura dell'angolo in radianti e corrispondente valore in gradi, \n",
    "approssimato alla terza cifra decimale,\\n\n",
    "|&theta; rad |&theta; deg|\n",
    "|-------|-------|\n",
    "|{one}|{two:0.3f}| \n",
    "\"\"\".format(one = theta_rad, two = theta_deg))\n"
   ]
  },
  {
   "cell_type": "markdown",
   "metadata": {},
   "source": [
    "<hr>\n",
    "&nbsp;\n",
    "\n",
    "> Per eseguire il codice Python in ambiente **binder** online,\n",
    "\n",
    "[![Binder](https://mybinder.org/badge_logo.svg)](https://mybinder.org/v2/gh/POSS-UniMe/simple-physics-with-Python-ITA/master?filepath=notebook%2F1-1-3-DistanzaTerraLuna.ipynb)\n",
    "\n",
    "<hr>\n",
    "&nbsp;\n",
    "\n",
    "### Grafico"
   ]
  },
  {
   "cell_type": "code",
   "execution_count": 3,
   "metadata": {},
   "outputs": [
    {
     "data": {
      "text/plain": [
       "<Figure size 500x500 with 1 Axes>"
      ]
     },
     "metadata": {},
     "output_type": "display_data"
    }
   ],
   "source": [
    "import numpy as np\n",
    "import matplotlib.pyplot as plt\n",
    "from matplotlib import patches\n",
    "from matplotlib.patches import Wedge\n",
    "\n",
    "xcenter, ycenter = 0., 0.\n",
    "width, height = 2.01, 2.01\n",
    "\n",
    "beta = 1 # radians\n",
    "beta_deg = beta * 180/np.pi\n",
    "\n",
    "fig1 = plt.figure(1, (5,5))\n",
    "arc = patches.Arc((xcenter,ycenter),width,height,angle = 0.0, theta1 = 0.0, theta2 = 360.0, color = 'blue', linewidth = 1.5)\n",
    "ax = fig1.add_subplot(111, aspect='equal')\n",
    "plt.xlim(-1.1, 1.1)\n",
    "plt.ylim(-1.1,1.1)\n",
    "plt.plot(0,0, 'o', markersize = 4, color = 'blue')\n",
    "ax.add_patch(arc)\n",
    "\n",
    "radius = 1\n",
    "wedge = Wedge((xcenter,ycenter),radius, 0, beta_deg)\n",
    "ax.add_patch(wedge)\n",
    "plt.text(0.75,0.75,r'$\\theta$ = {0:0.3f} deg'.format(beta_deg), fontsize='16')\n",
    "plt.axis('off')\n",
    "plt.show()"
   ]
  },
  {
   "cell_type": "markdown",
   "metadata": {},
   "source": [
    "### Get a feel of\n",
    "\n",
    "Dato un angolo 𝛾 in gradi, compreso fra 0 e 360, calcolare la misura in radianti.\n",
    "\n",
    "Disegnare un settore circolare che corrisponde all'angolo scelto.\n",
    "\n",
    "&nbsp;\n"
   ]
  },
  {
   "cell_type": "code",
   "execution_count": 4,
   "metadata": {},
   "outputs": [
    {
     "name": "stdout",
     "output_type": "stream",
     "text": [
      "\n"
     ]
    },
    {
     "data": {
      "application/vnd.jupyter.widget-view+json": {
       "model_id": "ccd9da4a358d431491846b826fbc397f",
       "version_major": 2,
       "version_minor": 0
      },
      "text/plain": [
       "interactive(children=(FloatSlider(value=45.0, continuous_update=False, description='Angle $\\\\gamma$ (°)', max=…"
      ]
     },
     "metadata": {},
     "output_type": "display_data"
    },
    {
     "data": {
      "text/plain": [
       "<function __main__.calculate(gamma)>"
      ]
     },
     "execution_count": 4,
     "metadata": {},
     "output_type": "execute_result"
    }
   ],
   "source": [
    "import ipywidgets as widgets\n",
    "from IPython.display import display, Markdown, HTML\n",
    "\n",
    "style = {'description_width':'initial'}\n",
    "sliderAngle = widgets.FloatSlider(min = 0, max = 360, step = 1, value = 45,\n",
    "                                  description ='Angle '+r'$\\gamma$'+' (°)', style = style, continuous_update=False)\n",
    "print()\n",
    "\n",
    "def calculate(gamma):\n",
    "    gamma_rad = gamma * np.pi/180   # angle (radians)\n",
    "    gamma_over_pi = gamma/180       # angle (fraction of pi radians)\n",
    "    display(HTML('\\n &gamma; = {0:0.3f} <b>rad</b> = {1:0.3f} &pi; <b>rad</b>'.format(gamma_rad, gamma_over_pi)))\n",
    "    makeplot(gamma)\n",
    "\n",
    "def makeplot(gamma):\n",
    "    fig2 = plt.figure(2, (5,5))\n",
    "    arc = patches.Arc((xcenter,ycenter),width,height,angle = 0.0, theta1 = 0.0, theta2 = 360.0, color = 'blue', linewidth = 1.5)\n",
    "    ax = fig2.add_subplot(111, aspect='equal')\n",
    "    plt.xlim(-1.1, 1.1)\n",
    "    plt.ylim(-1.1,1.1)\n",
    "    plt.plot(0,0, 'o', markersize = 4, color = 'blue')\n",
    "    ax.add_patch(arc)\n",
    "    \n",
    "    radius = 1\n",
    "    wedge = Wedge((xcenter,ycenter),radius, 0, gamma)\n",
    "    ax.add_patch(wedge)\n",
    "    plt.text(0.75,0.75,r'$\\theta$ = {0:0.3f} deg'.format(gamma), fontsize='16')\n",
    "    plt.axis('off')\n",
    "    plt.show()\n",
    " \n",
    "widgets.interact(calculate, gamma = sliderAngle)\n",
    "\n",
    "\n",
    "\n"
   ]
  },
  {
   "cell_type": "markdown",
   "metadata": {},
   "source": [
    "## What we have learned\n",
    "*Fisica*\n",
    "* Misura degli angoli in radianti\n",
    "* Conversione fra unità di misura: radianti &hArr; gradi\n",
    "\n",
    "*Python*\n",
    "* Rappresentare graficamente un settore circolare e un arco di circonferenza\n",
    "* Esprimere i risultati come in linguaggio Markdown come testo o come tabella.\n",
    "* Modificare le dimensioni delle immagini"
   ]
  },
  {
   "cell_type": "markdown",
   "metadata": {},
   "source": [
    "## References and notes"
   ]
  },
  {
   "cell_type": "markdown",
   "metadata": {},
   "source": [
    "#### Drawing arcs and circles with Matplotlib\n",
    "* 1.[How to draw an arc of a circle](https://matplotlib.org/3.1.1/api/_as_gen/matplotlib.patches.Arc.html)\n",
    "\n",
    "* 2.[Matplotlib documentation on Arc](https://matplotlib.org/3.1.1/api/_as_gen/matplotlib.patches.Arc.html)\n",
    "\n",
    "* 3.[Example: patches, Arc](https://matplotlib.org/3.1.1/gallery/units/ellipse_with_units.html#sphx-glr-gallery-units-ellipse-with-units-py)\n",
    "\n",
    "* 4.[Example: Wedges](https://matplotlib.org/gallery/shapes_and_collections/patch_collection.html#sphx-glr-gallery-shapes-and-collections-patch-collection-py) (How to draw a full sector)\n"
   ]
  },
  {
   "cell_type": "code",
   "execution_count": null,
   "metadata": {},
   "outputs": [],
   "source": []
  }
 ],
 "metadata": {
  "kernelspec": {
   "display_name": "Python 3",
   "language": "python",
   "name": "python3"
  },
  "language_info": {
   "codemirror_mode": {
    "name": "ipython",
    "version": 3
   },
   "file_extension": ".py",
   "mimetype": "text/x-python",
   "name": "python",
   "nbconvert_exporter": "python",
   "pygments_lexer": "ipython3",
   "version": "3.7.4"
  }
 },
 "nbformat": 4,
 "nbformat_minor": 2
}
