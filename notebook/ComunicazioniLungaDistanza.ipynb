{
 "cells": [
  {
   "cell_type": "markdown",
   "metadata": {},
   "source": [
    "# Comunicazioni a lunga distanza\n",
    "\n",
    "La trasmissione di dati a lunga distanza può risentire del tempo necessario alla propagazione del segnale, che avviene tramite onde elettromagnetiche. La velocità di propagazione delle onde elettromagnetiche nel vuoto è\n",
    "\n",
    "$ c =2.99792458 \\cdot 10^{8}  \\text{m/s}  $  \n",
    "\n",
    "Vogliamo stimare approssimativamente il tempo necessario a trasmettere un segnale\n",
    "\n",
    "* dalla Terra alla Stazione Spaziale Internazionale;\n",
    "* dalla Terra alla Luna;\n",
    "* dalla Terra al pianeta Marte.\n",
    "\n",
    "\n",
    "### Discussione del problema\n",
    "\n",
    "In base alla relazione\n",
    "\n",
    "$ \\Delta x = c \\Delta t $\n",
    "\n",
    "il tempo necessario per percorrere la distanza $\\Delta x$ è\n",
    "\n",
    "$ \\Delta t = \\dfrac{\\Delta x}{c}$\n",
    "\n",
    "### Calcoli con Python"
   ]
  },
  {
   "cell_type": "code",
   "execution_count": 2,
   "metadata": {},
   "outputs": [
    {
     "data": {
      "application/vnd.jupyter.widget-view+json": {
       "model_id": "c3662ceb4d4744e8a58bdfaa3e0618b9",
       "version_major": 2,
       "version_minor": 0
      },
      "text/plain": [
       "interactive(children=(Dropdown(description='Distanza:', options=(('Terra-ISS', 400), ('Terra-Luna', 384400), (…"
      ]
     },
     "metadata": {},
     "output_type": "display_data"
    },
    {
     "data": {
      "text/plain": [
       "<function __main__.calculate(Dx)>"
      ]
     },
     "execution_count": 2,
     "metadata": {},
     "output_type": "execute_result"
    }
   ],
   "source": [
    "import ipywidgets as widgets\n",
    "\n",
    "c = 2.99792458e8\n",
    "\n",
    "selectDistance = widgets.Dropdown( \n",
    "options=[('Terra-ISS', 400), ('Terra-Luna', 384400), ('Terra-Marte', 54600000), ('Terra-Sole',149597870.7)],\n",
    "    value=400,\n",
    "    description='Distanza:',\n",
    ")\n",
    "\n",
    "def calculate(Dx):\n",
    "    print('Distance =', Dx, 'km', '\\n')\n",
    "    Dt = Dx*1000 / c     \n",
    "    print('delay = ', Dt, 's')\n",
    "    \n",
    "\n",
    "widgets.interact(calculate, Dx = selectDistance)"
   ]
  },
  {
   "cell_type": "markdown",
   "metadata": {},
   "source": [
    "Percorso   |   Distanza (km)\n",
    "-----------|----------------\n",
    "Terra-ISS  |   400\n",
    "Terra-Luna |    384400\n",
    "Terra-Marte |   54600000\n",
    "Terra-Sole (1 au)  | 149597870.7"
   ]
  },
  {
   "cell_type": "markdown",
   "metadata": {},
   "source": [
    "## References\n",
    "\n",
    "[Where is the International Space Station](http://www.esa.int/Science_Exploration/Human_and_Robotic_Exploration/International_Space_Station/Where_is_the_International_Space_Station)\n",
    "\n",
    "[Mars close approach](https://mars.nasa.gov/all-about-mars/night-sky/close-approach/)"
   ]
  },
  {
   "cell_type": "code",
   "execution_count": null,
   "metadata": {},
   "outputs": [],
   "source": []
  }
 ],
 "metadata": {
  "kernelspec": {
   "display_name": "Python 3",
   "language": "python",
   "name": "python3"
  },
  "language_info": {
   "codemirror_mode": {
    "name": "ipython",
    "version": 3
   },
   "file_extension": ".py",
   "mimetype": "text/x-python",
   "name": "python",
   "nbconvert_exporter": "python",
   "pygments_lexer": "ipython3",
   "version": "3.7.4"
  }
 },
 "nbformat": 4,
 "nbformat_minor": 2
}
