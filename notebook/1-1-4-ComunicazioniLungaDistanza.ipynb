{
 "cells": [
  {
   "cell_type": "markdown",
   "metadata": {},
   "source": [
    "# Comunicazioni a lunga distanza\n",
    "\n",
    "La trasmissione di dati a lunga distanza può risentire del tempo necessario alla propagazione del segnale, che avviene tramite onde elettromagnetiche. La velocità di propagazione delle onde elettromagnetiche nel vuoto è\n",
    "\n",
    "$ c =2.99792458 \\cdot 10^{8}  \\text{m/s}  $  \n",
    "\n",
    "Vogliamo stimare approssimativamente il tempo necessario a trasmettere un segnale\n",
    "\n",
    "* dalla Terra alla Stazione Spaziale Internazionale;\n",
    "* dalla Terra alla Luna;\n",
    "* dalla Terra al pianeta Marte.\n",
    "\n",
    "Vogliamo anche proporre una risposta alla domanda:\n",
    "* quanto tempo impiega la luce per viaggiare dal Sole alla Terra ?\n",
    "\n",
    "&nbsp;\n",
    "\n",
    "![](img/Earth-from-ISS.jpg)\n",
    "\n",
    "### Discussione del problema\n",
    "\n",
    "In base alla relazione\n",
    "\n",
    "$$ \\Delta x = c \\Delta t $$\n",
    "\n",
    "il tempo necessario per percorrere la distanza $\\Delta x$ è\n",
    "\n",
    "$$ \\Delta t = \\dfrac{\\Delta x}{c}$$\n",
    "\n",
    "### Calcoli con Python\n",
    "\n",
    "In questo esempio vogliamo utilizzare l'equazione per il calcolo del tempo $\\Delta t$ inserendo valori diversi della distanza $\\Delta x$, in base al particolare problema che consideriamo.\n",
    "\n",
    "\n",
    "Percorso   |   Distanza (km)\n",
    "-----------|----------------\n",
    "Terra-ISS  |   400\n",
    "Terra-Luna |    384400\n",
    "Terra-Marte |   54600000\n",
    "Terra-Sole (1 au)  | 149597870.7\n",
    "\n",
    "&nbsp;\n",
    "\n",
    "Per effettuare la scelta del valore della variabile $\\Delta x$ fra varie opzioni possibili utilizziamo il **widget** di tipo **Dropdown**.\n",
    "\n",
    "Nella tabella delle distanze e nel menu Dropdown i valori sono riportati in *chilometri*. Per effettuare il calcolo del tempo di propagazione inseriamo la conversione in *metri*.\n",
    "\n",
    "Il risultato del calcolo è visualizzato solo con quattro cifre decimali tramite **print** e **format**.\n",
    "\n",
    "&nbsp;\n"
   ]
  },
  {
   "cell_type": "code",
   "execution_count": 1,
   "metadata": {},
   "outputs": [
    {
     "name": "stdout",
     "output_type": "stream",
     "text": [
      "\n"
     ]
    },
    {
     "data": {
      "application/vnd.jupyter.widget-view+json": {
       "model_id": "dccc4e0499b847968f4166de34981478",
       "version_major": 2,
       "version_minor": 0
      },
      "text/plain": [
       "interactive(children=(Dropdown(description='Distanza:', options=(('Terra-ISS', 400), ('Terra-Luna', 384400), (…"
      ]
     },
     "metadata": {},
     "output_type": "display_data"
    },
    {
     "data": {
      "text/plain": [
       "<function __main__.calculate(Dx)>"
      ]
     },
     "execution_count": 1,
     "metadata": {},
     "output_type": "execute_result"
    }
   ],
   "source": [
    "import ipywidgets as widgets\n",
    "\n",
    "c = 2.99792458e8\n",
    "\n",
    "print()\n",
    "\n",
    "selectDistance = widgets.Dropdown( \n",
    "options=[('Terra-ISS', 400), ('Terra-Luna', 384400), ('Terra-Marte', 54600000), ('Terra-Sole',149597870.7)],\n",
    "    value=400,\n",
    "    description='Distanza:',\n",
    ")\n",
    "\n",
    "def calculate(Dx):\n",
    "    print()\n",
    "    print('Distance =', Dx, 'km', '\\n')\n",
    "    Dt = Dx*1000 / c     \n",
    "    print('Delay =  {0:0.4f} s \\n'.format(Dt))\n",
    "        \n",
    "\n",
    "widgets.interact(calculate, Dx = selectDistance)"
   ]
  },
  {
   "cell_type": "markdown",
   "metadata": {},
   "source": [
    "&nbsp;\n",
    "\n",
    "> Per lavorare in modalità interattiva ed eseguire il codice Python in ambiente **binder** online,\n",
    "\n",
    "[![Binder](https://mybinder.org/badge_logo.svg)](https://mybinder.org/v2/gh/POSS-UniMe/simple-physics-with-Python-ITA/master?filepath=notebook%2F1-1-4-ComunicazioniLungaDistanza.ipynb)\n",
    "\n",
    "&nbsp;\n",
    "\n",
    "\n",
    "## What we have learned\n",
    "\n",
    "*Jupyter*\n",
    "\n",
    "* Utilizzo di un menu **Dropdown** per la scelta del valore di una variabile fra più opzioni disponibili\n",
    "* Scrittura di una **tabella** in linguaggio Markdown\n",
    "\n",
    "*Fisica*\n",
    "\n",
    "* Ottenere una stima dei *tempi tecnici* necessari per le comunicazioni a lunga distanza.\n",
    "\n",
    "&nbsp;\n"
   ]
  },
  {
   "cell_type": "markdown",
   "metadata": {},
   "source": [
    "## References\n",
    "\n",
    "1. [Where is the International Space Station](http://www.esa.int/Science_Exploration/Human_and_Robotic_Exploration/International_Space_Station/Where_is_the_International_Space_Station)\n",
    "\n",
    "2. [Mars close approach](https://mars.nasa.gov/all-about-mars/night-sky/close-approach/)\n",
    "\n",
    "3. [Distanza Terra-Sole](https://it.wikipedia.org/wiki/Unit%C3%A0_astronomica)\n",
    "\n",
    "#### Immagini\n",
    "4. @astro_luca [Luca Parmitano su Twitter ](https://twitter.com/astro_luca/status/1259506968617799684)\n",
    "\n",
    "    * See also [L'album di Parmitano, dalla Sicilia all'Australia: la 'sua' Terra vista dallo spazio](https://www.repubblica.it/scienze/2020/02/05/news/luca_parmitano_cartoline_dallo_spazio-247676704/) "
   ]
  },
  {
   "cell_type": "code",
   "execution_count": null,
   "metadata": {},
   "outputs": [],
   "source": []
  }
 ],
 "metadata": {
  "kernelspec": {
   "display_name": "Python 3",
   "language": "python",
   "name": "python3"
  },
  "language_info": {
   "codemirror_mode": {
    "name": "ipython",
    "version": 3
   },
   "file_extension": ".py",
   "mimetype": "text/x-python",
   "name": "python",
   "nbconvert_exporter": "python",
   "pygments_lexer": "ipython3",
   "version": "3.7.4"
  }
 },
 "nbformat": 4,
 "nbformat_minor": 2
}
