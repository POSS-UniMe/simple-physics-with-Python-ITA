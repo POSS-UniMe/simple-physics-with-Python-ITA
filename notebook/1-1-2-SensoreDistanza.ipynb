{
 "cells": [
  {
   "cell_type": "markdown",
   "metadata": {},
   "source": [
    "# Sensore ultrasonico di distanza\n",
    "\n",
    "Un sensore ad ultrasuoni può essere usato come sensore anticollisione. In alcuni nuovi modelli di automobili i sensori ad ultrasuoni rilevano le auto circostanti, segnalano possibili collisioni e forniscono assistenza al parcheggio.\n",
    "\n",
    "![](img/SensoriKadjarFront.jpg)\n",
    "\n",
    "Il sensore emette un impulso che si propaga in aria con velocità costante $v = $ 336 m/s. L'impulso viaggia fino all'ostacolo e viene riflesso indietro fino a raggiungere nuovamente il sensore.\n",
    "\n",
    "![](img/smallJeepAndSensor.jpg)\n",
    "\n",
    "Se la distanza sensore-ostacolo è di 3 m, calcolare la durata dell'intervallo di tempo che intercorre fra l'istante in cui l'impulso viene inviato e l'istante in cui l'impulso, riflesso dall'ostacolo, raggiunge il sensore.\n",
    "\n",
    "\n",
    "### Discussione dell'esempio\n",
    "\n",
    "Se $d$ è la distanza fra il sensore e l'ostacolo, lo spazio percorso dall'impulso ultrasonico è $\\Delta x = 2 d$.\n",
    "\n",
    "La propagazione dell'onda ultrasonica avviene con velocità costante $v$. \n",
    "\n",
    "Nel moto uniforme il legame fra lo spazio percorso e l'intervallo di tempo (*tempo di volo*) necessario a percorrerlo è espresso dalla relazione\n",
    "\n",
    "$v = \\dfrac{\\Delta x}{\\Delta t}$\n",
    "\n",
    "In questo caso si ha quindi\n",
    "\n",
    "$\\Delta t = \\dfrac{\\Delta x}{v} = \\dfrac{2 d}{v}$\n",
    "\n",
    "\n",
    "### Svolgimento dei calcoli in Python\n",
    "\n"
   ]
  },
  {
   "cell_type": "code",
   "execution_count": 1,
   "metadata": {},
   "outputs": [
    {
     "name": "stdout",
     "output_type": "stream",
     "text": [
      "\n",
      "Distanza sensore-ostacolo =  3 m \n",
      "\n",
      "Tempo di volo = 17.857 ms\n",
      "\n"
     ]
    }
   ],
   "source": [
    "v = 336   # velocità di propagazione (m/s)\n",
    "d = 3     # distanza sensore-ostacolo (m)\n",
    "Dt = 2 * d / v     # tempo di volo (s)\n",
    "\n",
    "print()\n",
    "print('Distanza sensore-ostacolo = ', d, 'm', '\\n')\n",
    "print('Tempo di volo = {0:0.3f} ms'.format(Dt*1000))\n",
    "print()"
   ]
  },
  {
   "cell_type": "markdown",
   "metadata": {},
   "source": [
    "[![Binder](https://mybinder.org/badge_logo.svg)](https://mybinder.org/v2/gh/POSS-UniMe/simple-physics-with-Python-ITA/master?filepath=notebook%2F1-1-2-SensoreDistanza.ipynb)\n",
    "\n",
    "&nbsp;"
   ]
  },
  {
   "cell_type": "markdown",
   "metadata": {},
   "source": [
    "### Calcoli in modalità interattiva\n",
    "\n",
    "Consideriamo in particolare il sensore ultrasonico di distanza **HC-SR04**. Secondo le specifiche tecniche, questo sensore può operare nell'intervallo fra 2 cm e 5 m.\n",
    "\n",
    "![](img/ultrasonicSensorSmall.jpg)\n",
    "\n",
    "Utilizzando uno **slider** possiamo calcolare il *tempo di volo* dell'impulso ultrasonico per una qualsiasi distanza sensore-ostacolo compresa nell'intervallo di funzionamento del dispositivo."
   ]
  },
  {
   "cell_type": "code",
   "execution_count": 2,
   "metadata": {},
   "outputs": [
    {
     "name": "stdout",
     "output_type": "stream",
     "text": [
      "\n",
      " Distanza (cm)\n"
     ]
    },
    {
     "data": {
      "application/vnd.jupyter.widget-view+json": {
       "model_id": "0d2cdc1922d8451b9dcdd24263191347",
       "version_major": 2,
       "version_minor": 0
      },
      "text/plain": [
       "interactive(children=(FloatSlider(value=300.0, description='d', max=500.0, min=2.0), Output()), _dom_classes=(…"
      ]
     },
     "metadata": {},
     "output_type": "display_data"
    },
    {
     "data": {
      "text/plain": [
       "<function __main__.calculate(d)>"
      ]
     },
     "execution_count": 2,
     "metadata": {},
     "output_type": "execute_result"
    }
   ],
   "source": [
    "from ipywidgets import interact\n",
    "import ipywidgets as widgets\n",
    "\n",
    "v = 336     # velocità di propagazione (m/s)\n",
    "\n",
    "print('\\n','Distanza (cm)')\n",
    "\n",
    "sliderDistance = (widgets.FloatSlider(min = 2, max = 500, step = 0.1, value = 300))     # distanza (cm)\n",
    "\n",
    "def calculate(d):\n",
    "    Dt = 2 * (d/100.)/ v     # tempo di volo (s)\n",
    "    print ('\\n','Tempo di volo {0:0.3f} ms \\n'.format(Dt*1000));\n",
    "    \n",
    "widgets.interact(calculate, d = sliderDistance)"
   ]
  },
  {
   "cell_type": "markdown",
   "metadata": {},
   "source": [
    "> Per eseguire il codice Python contenuto in questo foglio di calcolo \n",
    "> si può utilizzare il seguente link all'ambiente [**binder**](mybinder.org)\n",
    "\n",
    "[![Binder](https://mybinder.org/badge_logo.svg)](https://mybinder.org/v2/gh/POSS-UniMe/simple-physics-with-Python-ITA/master?filepath=notebook%2F1-2-SensoreDistanza.ipynb)"
   ]
  },
  {
   "cell_type": "markdown",
   "metadata": {},
   "source": [
    "## What we have learned\n",
    "* Principio di funzionamento dei sensori di distanza.\n",
    "\n",
    "## References and notes\n",
    "#### Sensore ultrasonico\n",
    "1. [Experiments and data analysis on one-dimensional motion with **Raspberry Pi** and **Python**](https://iopscience.iop.org/article/10.1088/1361-6552/ab73d2) (see also Supplementary Information)\n",
    "\n",
    "#### Images\n",
    "2. Immagini originali realizzate con smartphone Samsung 9 e modificate con Microsoft Paint 3D"
   ]
  },
  {
   "cell_type": "code",
   "execution_count": null,
   "metadata": {},
   "outputs": [],
   "source": []
  }
 ],
 "metadata": {
  "kernelspec": {
   "display_name": "Python 3",
   "language": "python",
   "name": "python3"
  },
  "language_info": {
   "codemirror_mode": {
    "name": "ipython",
    "version": 3
   },
   "file_extension": ".py",
   "mimetype": "text/x-python",
   "name": "python",
   "nbconvert_exporter": "python",
   "pygments_lexer": "ipython3",
   "version": "3.7.4"
  }
 },
 "nbformat": 4,
 "nbformat_minor": 2
}
