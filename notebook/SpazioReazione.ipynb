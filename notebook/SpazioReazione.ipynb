{
 "cells": [
  {
   "cell_type": "code",
   "execution_count": null,
   "metadata": {},
   "outputs": [],
   "source": []
  },
  {
   "cell_type": "markdown",
   "metadata": {},
   "source": [
    "# Spazio di reazione, tempo di reazione\n",
    "\n",
    "**Tempo di reazione** è il tempo che trascorre da quanto il pilota di un veicolo percepisce uno stimolo visivo a quando inizia una manovra d'emergenza, come una frenata improvvisa. \n",
    "\n",
    "**Spazio di reazione** è lo spazio percorso dal veicolo durante tale intervallo di tempo.\n",
    "\n",
    "Supponendo che un veicolo sia in movimento con velocità costante $v$, calcolare lo spazio di reazione che corrisponde ad un tempo di reazione di 300 ms, se la velocità è $v =$ 36 km/h.\n",
    "\n",
    "### Discussione del problema\n",
    "* La velocità del veicolo di solito è compresa\n",
    "    * fra 0 e 50 km/h nelle aree urbane\n",
    "    * fra 80 e 130 km/h in autostrada\n",
    "\n",
    "* Bisogna convertire l'unità di misura da km/h a m/s\n",
    "\n",
    "$v \\left[\\dfrac{km}{h}\\right] * \\dfrac{1}{3.6} = v \\left[\\dfrac{m}{s}\\right]$\n",
    "\n",
    "* La velocità costante con cui si muove il veicolo è \n",
    "\n",
    "$v = \\dfrac{\\Delta x}{\\Delta t}$\n",
    "\n",
    "* Se $\\Delta t$ è il **tempo di reazione**, allora lo **spazio di reazione** è dato da\n",
    "\n",
    "$ \\Delta x = v \\Delta t $\n",
    "\n",
    "### Svolgimento dei calcoli con Python"
   ]
  },
  {
   "cell_type": "code",
   "execution_count": 1,
   "metadata": {},
   "outputs": [
    {
     "name": "stdout",
     "output_type": "stream",
     "text": [
      "velocità 10.0 m/s \n",
      "\n"
     ]
    }
   ],
   "source": [
    "speed = 36   # km/h\n",
    "v = speed / 3.6   # m/s\n",
    "print('velocità', v, 'm/s', '\\n')"
   ]
  },
  {
   "cell_type": "code",
   "execution_count": 2,
   "metadata": {},
   "outputs": [
    {
     "name": "stdout",
     "output_type": "stream",
     "text": [
      "spazio di reazione 3.0 m\n"
     ]
    }
   ],
   "source": [
    "Dt = 0.300  # 300 ms, tempo di reazione\n",
    "Dx = v * Dt   # spazio di reazione\n",
    "print ('spazio di reazione', Dx, 'm')"
   ]
  },
  {
   "cell_type": "markdown",
   "metadata": {},
   "source": [
    "### Calcoli in modalità interattiva"
   ]
  },
  {
   "cell_type": "code",
   "execution_count": 6,
   "metadata": {},
   "outputs": [
    {
     "data": {
      "application/vnd.jupyter.widget-view+json": {
       "model_id": "146c4d2cb10844ae96069f40b7cd9e7d",
       "version_major": 2,
       "version_minor": 0
      },
      "text/plain": [
       "interactive(children=(FloatSlider(value=0.3, description='Dt', max=0.5, min=0.2, step=0.05), FloatSlider(value…"
      ]
     },
     "metadata": {},
     "output_type": "display_data"
    },
    {
     "data": {
      "text/plain": [
       "<function __main__.calculate(Dt, speed)>"
      ]
     },
     "execution_count": 6,
     "metadata": {},
     "output_type": "execute_result"
    }
   ],
   "source": [
    "import ipywidgets as widgets\n",
    "\n",
    "sliderTime = widgets.FloatSlider(min = 0.200, max = 0.500, step = 0.050, value = 0.300)\n",
    "\n",
    "sliderSpeed = widgets.FloatSlider(min = 0, max = 130, step = 1.0, value = 36)\n",
    "\n",
    "def calculate(Dt, speed):\n",
    "    v = speed / 3.6   # m/s\n",
    "    print('velocità', v, 'm/s', '\\n')\n",
    "    Dx = v * Dt   # spazio di reazione\n",
    "    print ('spazio di reazione', Dx, 'm');\n",
    "        \n",
    "widgets.interact(calculate, Dt = sliderTime, speed=sliderSpeed)\n"
   ]
  },
  {
   "cell_type": "markdown",
   "metadata": {},
   "source": [
    "### Refined version\n",
    "Si può migliorare la leggibilità dei risultati specificando un formato opportuno per la stampa ([4](https://physics.nyu.edu/pine/pymanual/html/chap4/chap4_io.html#file-input), [5](https://docs.python.org/3/library/string.html#formatspec)). In particolare, scegliamo di specificare il formato in modo da stampare la velocità con una sola cifra decimale e lo spazio di reazione con due cifre decimali."
   ]
  },
  {
   "cell_type": "code",
   "execution_count": 5,
   "metadata": {},
   "outputs": [
    {
     "data": {
      "application/vnd.jupyter.widget-view+json": {
       "model_id": "43b595b258ba4ed59ed3f4847af66fc2",
       "version_major": 2,
       "version_minor": 0
      },
      "text/plain": [
       "interactive(children=(FloatSlider(value=0.3, description='Dt', max=0.5, min=0.2, step=0.05), FloatSlider(value…"
      ]
     },
     "metadata": {},
     "output_type": "display_data"
    },
    {
     "data": {
      "text/plain": [
       "<function __main__.calculate(Dt, speed)>"
      ]
     },
     "execution_count": 5,
     "metadata": {},
     "output_type": "execute_result"
    }
   ],
   "source": [
    "import ipywidgets as widgets\n",
    "sliderTime = widgets.FloatSlider(min = 0.200, max = 0.500, step = 0.050, value = 0.300)\n",
    "sliderSpeed = widgets.FloatSlider(min = 0, max = 130, step = 1.0, value = 36)\n",
    "\n",
    "\n",
    "def calculate(Dt, speed):\n",
    "    v = speed / 3.6   # m/s\n",
    "    print('velocità {0:0.1f} m/s  \\n'.format(v))\n",
    "    Dx = v * Dt   # spazio di reazione\n",
    "    print('spazio di reazione {0:0.02f} m'.format(Dx))\n",
    "    \n",
    "widgets.interact(calculate, Dt = sliderTime, speed=sliderSpeed)"
   ]
  },
  {
   "cell_type": "markdown",
   "metadata": {},
   "source": [
    "## What we have learned\n"
   ]
  },
  {
   "cell_type": "markdown",
   "metadata": {},
   "source": [
    "## References\n",
    "\n",
    "#### Semplici calcoli con Python\n",
    "\n",
    "[Introduction to Python for Science](https://physics.nyu.edu/pine/pymanual/html/pymanMaster.html)\n",
    "\n",
    "[Engineering Computations](https://github.com/engineersCode/EngComp) (see Module 1. Get data off the ground -- Learn to interact with Python and handle data with Python.\n",
    "\n",
    "[A quick intro to numerical programming in Python](https://github.com/barbagroup/AeroPython) (see Module 0. Quick Python Intro).\n",
    "\n",
    "\n",
    "#### Widgets\n",
    "\n",
    "[Jupyter Widgets documentation](https://ipywidgets.readthedocs.io/en/latest/)\n",
    "\n",
    "\n",
    "### Recommended readings\n"
   ]
  },
  {
   "cell_type": "code",
   "execution_count": null,
   "metadata": {},
   "outputs": [],
   "source": []
  }
 ],
 "metadata": {
  "kernelspec": {
   "display_name": "Python 3",
   "language": "python",
   "name": "python3"
  },
  "language_info": {
   "codemirror_mode": {
    "name": "ipython",
    "version": 3
   },
   "file_extension": ".py",
   "mimetype": "text/x-python",
   "name": "python",
   "nbconvert_exporter": "python",
   "pygments_lexer": "ipython3",
   "version": "3.7.4"
  }
 },
 "nbformat": 4,
 "nbformat_minor": 2
}
