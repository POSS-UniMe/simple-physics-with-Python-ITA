{
 "cells": [
  {
   "cell_type": "markdown",
   "metadata": {},
   "source": [
    "# Accelerazione di un'automobile\n",
    "\n",
    "Un certo autoveicolo con motore diesel può passare da $0$ a $100~km/h$ in $10$ secondi. Supponendo che il **moto** sia rettilineo **uniformemente accelerato** (cioè con accelerazione costante) calcolare il valore dell'accelerazione e lo spazio percorso nei primi $10$ secondi per raggiungere la velocità di $100~km/h$.\n",
    "\n",
    "\n",
    "### Discussione del problema\n",
    "\n",
    "#### Calcolo dell'accelerazione\n",
    "Supponiamo che il moto si svolga lungo un asse $x$ orizzontale, con origine $O$ nella posizione iniziale dell'automobile, che immaginiamo per semplicità come un oggetto puntiforme.\n",
    "\n",
    "Se l'automobile si muove con accelerazione costante, per la definizione di accelerazione si ha\n",
    "\n",
    "$$ a = \\dfrac{v - v_0}{t - t_0} $$\n",
    "\n",
    "In questo caso, per calcolare l'accelerazione in $m/s^2$ occorre prima convertire il valore della velocità finale da $km/h$ a $m/s$.\n",
    "\n",
    "#### Calcolo dello spazio percorso\n",
    "Nel moto unidimensionale con accelerazione costante si ha\n",
    "\n",
    "$$ x = x_0 + v_0(t-t_0) + \\dfrac{1}{2}a (t-t_0)^2 $$\n",
    "\n",
    "Per $x_0 = 0$ e $v_0 = 0$, l'equazione che esprime $x$ in funzione del tempo $t$ (**legge oraria**) diventa\n",
    "\n",
    "$$ x = \\dfrac{1}{2}a (t-t_0)^2 $$\n",
    "\n",
    "Sostituendo il valore di $a$ ottenuto nella prima parte del problema, si può ricavare il valore di $x$, che corrisponde allo spazio percorso durante i primi $(t-t_0)$ secondi.\n",
    "\n",
    "Con il calcolo simbolico si ottiene\n",
    "$$ x = \\dfrac{1}{2} \\dfrac{v - v_0}{t - t_0} (t-t_0)^2 = \\dfrac{1}{2} (v - v_0) (t-t_0) $$\n",
    "\n",
    "In questo problema $x$ rappresenta la distanza che bisogna percorrere con accelerazione costante $a$ per arrivare alla velocità di 100 km/h.\n",
    "\n",
    "\n",
    "### Calcoli con Python"
   ]
  },
  {
   "cell_type": "code",
   "execution_count": 1,
   "metadata": {},
   "outputs": [
    {
     "data": {
      "application/vnd.jupyter.widget-view+json": {
       "model_id": "ea8787b98dbc4c49b1889198aafd78d3",
       "version_major": 2,
       "version_minor": 0
      },
      "text/plain": [
       "interactive(children=(FloatSlider(value=10.0, description='Tempo (s)', max=20.0), Output()), _dom_classes=('wi…"
      ]
     },
     "metadata": {},
     "output_type": "display_data"
    },
    {
     "data": {
      "text/plain": [
       "<function __main__.calculate(Dt)>"
      ]
     },
     "execution_count": 1,
     "metadata": {},
     "output_type": "execute_result"
    }
   ],
   "source": [
    "import ipywidgets as widgets\n",
    "\n",
    "v = 100/3.6     # velocità finale (m/s)\n",
    "v0 = 0          # velocità iniziale (m/s)\n",
    "\n",
    "sliderDt = (\n",
    "    widgets.FloatSlider(min = 0, max = 20, step = 0.1, \n",
    "                        value = 10, description = 'Tempo (s)'))     # tempo (s)\n",
    "\n",
    "def calculate(Dt):\n",
    "    a = (v-v0)/Dt    # accelerazione (m/s^2)\n",
    "    print('\\naccelerazione {0:0.3f} m/s^2 \\n'.format(a))\n",
    "    Dx = 0.5*(v-v0)*Dt    # spazio percorso (m)\n",
    "    print('spazio percorso nei primi {0:0.2f} secondi = {1:0.3f} m'.format(Dt,Dx))\n",
    "       \n",
    "    \n",
    "widgets.interact(calculate, Dt = sliderDt)"
   ]
  },
  {
   "cell_type": "markdown",
   "metadata": {},
   "source": [
    "Car & model | Time 0 to 100 km/h | Source\n",
    "-------------|---------------|--------------\n",
    "Tesla model 3 | 3.4 s | [Tesla](https://www.tesla.com/it_it/model3)\n",
    "Renault Kadjar dCi 115 cv Sport Edition | 11.7 s | [automoto.it](https://www.automoto.it/catalogo/renault/kadjar/dci-8v-115cv-sport-edition/132970/amp)\n",
    "Toyota 1.5 Hybrid VVT-i | 9.7 s | [Toyota](https://www.toyota.it/)\n",
    "Fiat Bravo 1.6 Multijet 16V 105 CV | 11.2 s | [Al volante](https://www.alvolante.it/)"
   ]
  },
  {
   "cell_type": "code",
   "execution_count": null,
   "metadata": {},
   "outputs": [],
   "source": []
  }
 ],
 "metadata": {
  "kernelspec": {
   "display_name": "Python 3",
   "language": "python",
   "name": "python3"
  },
  "language_info": {
   "codemirror_mode": {
    "name": "ipython",
    "version": 3
   },
   "file_extension": ".py",
   "mimetype": "text/x-python",
   "name": "python",
   "nbconvert_exporter": "python",
   "pygments_lexer": "ipython3",
   "version": "3.7.4"
  }
 },
 "nbformat": 4,
 "nbformat_minor": 2
}
