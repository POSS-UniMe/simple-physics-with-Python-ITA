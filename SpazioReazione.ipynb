{
 "cells": [
  {
   "cell_type": "code",
   "execution_count": null,
   "metadata": {},
   "outputs": [],
   "source": []
  },
  {
   "cell_type": "markdown",
   "metadata": {},
   "source": [
    "# Spazio di reazione, tempo di reazione\n",
    "\n",
    "**Tempo di reazione** è il tempo che trascorre da quanto il pilota di un veicolo percepisce uno stimolo visivo a quando inizia una manovra d'emergenza, come una frenata improvvisa. \n",
    "\n",
    "**Spazio di reazione** è lo spazio percorso dal veicolo durante tale intervallo di tempo.\n",
    "\n",
    "Supponendo che un veicolo sia in movimento con velocità costante $v$, calcolare lo spazio di reazione che corrisponde ad un tempo di reazione di 300 ms, se la velocità è $v =$ 36 km/h.\n",
    "\n",
    "###### Discussione dell'esempio\n",
    "* La velocità del veicolo di solito è compresa\n",
    "    * fra 0 e 50 km/h nelle aree urbane\n",
    "    * fra 80 e 130 km/h in autostrada\n",
    "\n",
    "* Bisogna convertire l'unità di misura da km/h a m/s\n",
    "\n",
    "$v \\left[\\dfrac{km}{h}\\right] * \\dfrac{1}{3.6} = v \\left[\\dfrac{m}{s}\\right]$\n",
    "\n",
    "* La velocità costante con cui si muove il veicolo è \n",
    "\n",
    "$v = \\dfrac{\\Delta x}{\\Delta t}$\n",
    "\n",
    "* Se $\\Delta t$ è il **tempo di reazione**, allora lo **spazio di reazione** è dato da\n",
    "\n",
    "$ \\Delta x = v \\Delta t $\n",
    "\n",
    "###### Svolgimento dei calcoli con Python"
   ]
  },
  {
   "cell_type": "code",
   "execution_count": 2,
   "metadata": {},
   "outputs": [
    {
     "name": "stdout",
     "output_type": "stream",
     "text": [
      "velocità 10.0 m/s\n"
     ]
    }
   ],
   "source": [
    "speed = 36   # km/h\n",
    "v = speed / 3.6   # m/s\n",
    "print('velocità', v, 'm/s', '\\n')"
   ]
  },
  {
   "cell_type": "code",
   "execution_count": 3,
   "metadata": {},
   "outputs": [
    {
     "name": "stdout",
     "output_type": "stream",
     "text": [
      "spazio di reazione 3.0 m\n"
     ]
    }
   ],
   "source": [
    "Dt = 0.300  # 300 ms, tempo di reazione\n",
    "Dx = v * Dt   # spazio di reazione\n",
    "print ('spazio di reazione', Dx, 'm')"
   ]
  },
  {
   "cell_type": "markdown",
   "metadata": {},
   "source": [
    "###### Calcoli in modalità interattiva"
   ]
  },
  {
   "cell_type": "code",
   "execution_count": 34,
   "metadata": {},
   "outputs": [
    {
     "name": "stdout",
     "output_type": "stream",
     "text": [
      "36.0\n",
      "velocità 10.0 m/s \n",
      "\n",
      "spazio di reazione 3.0 m\n"
     ]
    }
   ],
   "source": [
    "from ipywidgets import interact\n",
    "import ipywidgets as widgets\n",
    "\n",
    "speed = widgets.FloatSlider(min = 0, max = 130, step = 1.0, value = 36)\n",
    "\n",
    "print(speed.value)\n",
    "v = speed.value / 3.6   # m/s\n",
    "print('velocità', v, 'm/s', '\\n')\n",
    "Dt = 0.300  # 300 ms, tempo di reazione\n",
    "Dx = v * Dt   # spazio di reazione\n",
    "print ('spazio di reazione', Dx, 'm')\n"
   ]
  }
 ],
 "metadata": {
  "kernelspec": {
   "display_name": "Python 3",
   "language": "python",
   "name": "python3"
  },
  "language_info": {
   "codemirror_mode": {
    "name": "ipython",
    "version": 3
   },
   "file_extension": ".py",
   "mimetype": "text/x-python",
   "name": "python",
   "nbconvert_exporter": "python",
   "pygments_lexer": "ipython3",
   "version": "3.7.4"
  }
 },
 "nbformat": 4,
 "nbformat_minor": 2
}
